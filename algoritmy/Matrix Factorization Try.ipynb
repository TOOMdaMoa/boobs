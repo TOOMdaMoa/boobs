{
 "cells": [
  {
   "cell_type": "code",
   "execution_count": 1,
   "metadata": {
    "collapsed": true
   },
   "outputs": [],
   "source": [
    "## General libraries\n",
    "import numpy as np\n",
    "import tensorflow as tf\n",
    "import pandas as pd\n",
    "import collections\n",
    "import math\n",
    "import pprint\n",
    "\n",
    "## My libraries ww\n",
    "import comms"
   ]
  },
  {
   "cell_type": "code",
   "execution_count": 2,
   "metadata": {
    "collapsed": true
   },
   "outputs": [],
   "source": [
    "data = comms.load_jsons(\"products.json\") ## list of jsons, TESTING:    pprint.pprint(data[0], depth=1)\n",
    "user_item_df = comms.user_item_dataframe(data) ## dataframe [\"context\", \"word\"] = [\"user\", \"product\"]\n",
    "word_bags, context_ids = comms.create_contexts(user_item_df, remove_treshold = 1) ## list of lists of product_ids, list of user_ids "
   ]
  },
  {
   "cell_type": "code",
   "execution_count": 3,
   "metadata": {
    "collapsed": true
   },
   "outputs": [],
   "source": [
    "test_size = min(len(word_bags)//5, 500) ## number of users to make testing set of \n",
    "test_indices = np.random.choice(len(word_bags), test_size)\n",
    "train_indices = [i for i in range(len(word_bags)) if i not in test_indices]\n",
    "\n",
    "word_bags_test = [word_bags[i] for i in test_indices]\n",
    "word_bags_train = [word_bags[i] for i in train_indices]\n",
    "\n",
    "context_ids_test = [context_ids[i] for i in test_indices]"
   ]
  },
  {
   "cell_type": "code",
   "execution_count": 4,
   "metadata": {
    "collapsed": true
   },
   "outputs": [],
   "source": [
    "del data"
   ]
  },
  {
   "cell_type": "code",
   "execution_count": 5,
   "metadata": {
    "collapsed": true
   },
   "outputs": [],
   "source": [
    "vocabulary = list(set([w for wb in word_bags_train for w in wb]))"
   ]
  },
  {
   "cell_type": "code",
   "execution_count": 29,
   "metadata": {
    "collapsed": true
   },
   "outputs": [],
   "source": [
    "user_indices = []\n",
    "item_indices = []\n",
    "rating_values = []"
   ]
  },
  {
   "cell_type": "code",
   "execution_count": 30,
   "metadata": {},
   "outputs": [],
   "source": [
    "for user_index in range(len(word_bags_train)): \n",
    "    wb = word_bags_train[user_index]\n",
    "    it_ind = [vocabulary.index(unw) for unw in set(wb)]\n",
    "    rat_int = [wb.count(unw) for unw in set(wb)]\n",
    "    u_ind = [user_index for i in range(len(it_ind))]\n",
    "\n",
    "    \n",
    "    \n",
    "    user_indices.extend(u_ind)\n",
    "    item_indices.extend(it_ind)\n",
    "    rating_values.extend(rat_int)"
   ]
  },
  {
   "cell_type": "code",
   "execution_count": 62,
   "metadata": {
    "collapsed": true
   },
   "outputs": [],
   "source": [
    "lda = .01          ## weight of regularization \n",
    "lr = 1.0           ## learning rate\n",
    "max_iter = 20000   ## number of iterations in optimization "
   ]
  },
  {
   "cell_type": "code",
   "execution_count": 35,
   "metadata": {
    "collapsed": true
   },
   "outputs": [],
   "source": [
    "num_users = len(word_bags_train)\n",
    "rank = 32\n",
    "num_items = len(vocabulary)\n",
    "num_ratings = len(user_indices)"
   ]
  },
  {
   "cell_type": "code",
   "execution_count": 40,
   "metadata": {},
   "outputs": [
    {
     "data": {
      "text/plain": [
       "array([   0,    0,    0, ..., 7789, 7790, 7790])"
      ]
     },
     "execution_count": 40,
     "metadata": {},
     "output_type": "execute_result"
    }
   ],
   "source": [
    "user_indices"
   ]
  },
  {
   "cell_type": "code",
   "execution_count": 37,
   "metadata": {
    "collapsed": true
   },
   "outputs": [],
   "source": [
    "user_indices = np.array(user_indices)\n",
    "item_indices = np.array(item_indices)\n",
    "rating_values = np.array(rating_values)"
   ]
  },
  {
   "cell_type": "code",
   "execution_count": 55,
   "metadata": {},
   "outputs": [],
   "source": [
    "test_indices = np.random.choice(len(user_indices), 1000, replace=False)\n",
    "train_indices = [i for i in range(len(user_indices)) if i not in test_indices]"
   ]
  },
  {
   "cell_type": "code",
   "execution_count": 60,
   "metadata": {},
   "outputs": [],
   "source": [
    "user_indices_train = user_indices[train_indices] \n",
    "item_indices_train = item_indices[train_indices]\n",
    "rating_values_train = rating_values[train_indices]\n",
    "\n",
    "user_indices_test = user_indices[test_indices]\n",
    "item_indices_test = item_indices[test_indices]\n",
    "rating_values_test = rating_values[test_indices]"
   ]
  },
  {
   "cell_type": "code",
   "execution_count": 61,
   "metadata": {},
   "outputs": [],
   "source": [
    "# Initialize the matrix factors from random normals with mean 0. W will\n",
    "# represent users and H will represent items.\n",
    "W = tf.Variable(tf.truncated_normal([num_users, rank], stddev=0.2, mean=0), name=\"users\")\n",
    "H = tf.Variable(tf.truncated_normal([rank, num_items], stddev=0.2, mean=0), name=\"items\")\n",
    "\n",
    "result = tf.matmul(W, H)\n",
    "\n",
    "# Now we just want the values represented by the pairs of user and item\n",
    "# indices for which we had known ratings. \n",
    "indices = tf.stack([user_indices_train, item_indices_train], axis=1)\n",
    "result_values = tf.gather_nd(result, indices, name='predicted_rating')\n",
    "\n",
    "# Calculate the difference between the predicted ratings and the actual\n",
    "# ratings. The predicted ratings are the values obtained form the matrix\n",
    "# multiplication with the mean rating added on.\n",
    "diff_op = tf.subtract(result_values, rating_values_train, name=\"raw_training_error\")\n",
    "\n",
    "base_cost = tf.reduce_sum(tf.square(diff_op, name=\"squared_difference\"), name=\"sum_squared_error\")\n",
    "# Add regularization.\n",
    "regularizer = tf.multiply(tf.add(tf.reduce_sum(tf.square(W)), tf.reduce_sum(tf.square(H))), lda, name=\"regularize\")\n",
    "cost = tf.div(tf.add(base_cost, regularizer), num_ratings * 2, name=\"average_error\")\n",
    "\n",
    "# Use an exponentially decaying learning rate.\n",
    "global_step = tf.Variable(0, trainable=False)\n",
    "learning_rate = tf.train.exponential_decay(lr, global_step, 10000, 0.96, staircase=True)\n",
    "\n",
    "\n",
    "optimizer = tf.train.GradientDescentOptimizer(learning_rate)\n",
    "# Passing global_step to minimize() will increment it at each step so\n",
    "# that the learning rate will be decayed at the specified intervals.\n",
    "train_step = optimizer.minimize(cost, global_step=global_step)\n",
    "\n",
    "init = tf.global_variables_initializer()\n"
   ]
  },
  {
   "cell_type": "code",
   "execution_count": 63,
   "metadata": {},
   "outputs": [
    {
     "name": "stdout",
     "output_type": "stream",
     "text": [
      "Cost at 0 th iteration was:  96885.5   base cost:  96788.2   regul.:  97.3543\n",
      "Cost at 500 th iteration was:  84148.3   base cost:  84048.5   regul.:  99.7017\n",
      "Cost at 1000 th iteration was:  59218.4   base cost:  59107.9   regul.:  110.54\n",
      "Cost at 1500 th iteration was:  38197.8   base cost:  38071.2   regul.:  126.625\n",
      "Cost at 2000 th iteration was:  24544.2   base cost:  24401.4   regul.:  142.822\n",
      "Cost at 2500 th iteration was:  15942.0   base cost:  15784.6   regul.:  157.363\n",
      "Cost at 3000 th iteration was:  10641.9   base cost:  10472.3   regul.:  169.572\n",
      "Cost at 3500 th iteration was:  7320.66   base cost:  7141.13   regul.:  179.528\n",
      "Cost at 4000 th iteration was:  5169.49   base cost:  4981.89   regul.:  187.598\n",
      "Cost at 4500 th iteration was:  3732.25   base cost:  3538.08   regul.:  194.164\n",
      "Cost at 5000 th iteration was:  2748.9   base cost:  2549.36   regul.:  199.54\n",
      "Cost at 5500 th iteration was:  2063.66   base cost:  1859.7   regul.:  203.965\n",
      "Cost at 6000 th iteration was:  1578.91   base cost:  1371.28   regul.:  207.625\n",
      "Cost at 6500 th iteration was:  1231.54   base cost:  1020.88   regul.:  210.665\n",
      "Cost at 7000 th iteration was:  979.856   base cost:  766.659   regul.:  213.197\n",
      "Cost at 7500 th iteration was:  795.709   base cost:  580.397   regul.:  215.313\n",
      "Cost at 8000 th iteration was:  659.796   base cost:  442.71   regul.:  217.085\n",
      "Cost at 8500 th iteration was:  558.673   base cost:  340.098   regul.:  218.574\n",
      "Cost at 9000 th iteration was:  482.867   base cost:  263.039   regul.:  219.828\n",
      "Cost at 9500 th iteration was:  425.635   base cost:  204.75   regul.:  220.885\n",
      "Cost at 10000 th iteration was:  382.132   base cost:  160.354   regul.:  221.778\n",
      "Cost at 10500 th iteration was:  349.973   base cost:  127.466   regul.:  222.507\n",
      "Cost at 11000 th iteration was:  325.009   base cost:  101.882   regul.:  223.128\n",
      "Cost at 11500 th iteration was:  305.49   base cost:  81.8322   regul.:  223.658\n",
      "Cost at 12000 th iteration was:  290.147   base cost:  66.0365   regul.:  224.111\n",
      "Cost at 12500 th iteration was:  278.027   base cost:  53.5293   regul.:  224.498\n",
      "Cost at 13000 th iteration was:  268.407   base cost:  43.5783   regul.:  224.829\n",
      "Cost at 13500 th iteration was:  260.737   base cost:  35.6245   regul.:  225.112\n",
      "Cost at 14000 th iteration was:  254.593   base cost:  29.2392   regul.:  225.354\n",
      "Cost at 14500 th iteration was:  249.652   base cost:  24.0913   regul.:  225.56\n",
      "Cost at 15000 th iteration was:  245.66   base cost:  19.9243   regul.:  225.736\n",
      "Cost at 15500 th iteration was:  242.423   base cost:  16.5381   regul.:  225.885\n",
      "Cost at 16000 th iteration was:  239.788   base cost:  13.7762   regul.:  226.012\n",
      "Cost at 16500 th iteration was:  237.634   base cost:  11.5154   regul.:  226.118\n",
      "Cost at 17000 th iteration was:  235.866   base cost:  9.65844   regul.:  226.208\n",
      "Cost at 17500 th iteration was:  234.41   base cost:  8.12798   regul.:  226.282\n",
      "Cost at 18000 th iteration was:  233.206   base cost:  6.86263   regul.:  226.343\n",
      "Cost at 18500 th iteration was:  232.206   base cost:  5.81315   regul.:  226.393\n",
      "Cost at 19000 th iteration was:  231.373   base cost:  4.94012   regul.:  226.432\n",
      "Cost at 19500 th iteration was:  230.675   base cost:  4.21175   regul.:  226.463\n"
     ]
    }
   ],
   "source": [
    "sess = tf.Session()\n",
    "sess.run(init)\n",
    "\n",
    "for i in range(max_iter):\n",
    "    if i % 500 == 0:\n",
    "        cost_r, base_cost_r, regularizer_r = sess.run([cost * num_ratings * 2, base_cost, regularizer])\n",
    "        print(\"Cost at\",i,\"th iteration was: \", cost_r, \"  base cost: \", base_cost_r, \"  regul.: \", regularizer_r)\n",
    "    else:\n",
    "        sess.run(train_step)\n",
    "        \n",
    "final_res, final_W, final_H = sess.run([result, W, H])"
   ]
  },
  {
   "cell_type": "code",
   "execution_count": 48,
   "metadata": {
    "collapsed": true
   },
   "outputs": [],
   "source": [
    "import matplotlib.pyplot as plt"
   ]
  },
  {
   "cell_type": "code",
   "execution_count": 65,
   "metadata": {},
   "outputs": [
    {
     "data": {
      "image/png": "[encoded data removed]",
      "text/plain": [
       "<matplotlib.figure.Figure at 0x105dc748>"
      ]
     },
     "metadata": {},
     "output_type": "display_data"
    }
   ],
   "source": [
    "plt.figure(figsize = (10,10))\n",
    "plt.scatter(final_res[user_indices_test, item_indices_test], rating_values_test, alpha=0.1)\n",
    "plt.show()"
   ]
  },
  {
   "cell_type": "code",
   "execution_count": null,
   "metadata": {
    "collapsed": true
   },
   "outputs": [],
   "source": []
  }
 ],
 "metadata": {
  "kernelspec": {
   "display_name": "Python 3",
   "language": "python",
   "name": "python3"
  },
  "language_info": {
   "codemirror_mode": {
    "name": "ipython",
    "version": 3
   },
   "file_extension": ".py",
   "mimetype": "text/x-python",
   "name": "python",
   "nbconvert_exporter": "python",
   "pygments_lexer": "ipython3",
   "version": "3.5.3"
  },
  "toc": {
   "colors": {
    "hover_highlight": "#DAA520",
    "navigate_num": "#000000",
    "navigate_text": "#333333",
    "running_highlight": "#FF0000",
    "selected_highlight": "#FFD700",
    "sidebar_border": "#EEEEEE",
    "wrapper_background": "#FFFFFF"
   },
   "moveMenuLeft": true,
   "nav_menu": {
    "height": "12px",
    "width": "252px"
   },
   "navigate_menu": true,
   "number_sections": true,
   "sideBar": true,
   "threshold": 4,
   "toc_cell": false,
   "toc_section_display": "block",
   "toc_window_display": false,
   "widenNotebook": false
  }
 },
 "nbformat": 4,
 "nbformat_minor": 2
}
