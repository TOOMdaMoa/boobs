{
 "cells": [
  {
   "cell_type": "markdown",
   "metadata": {},
   "source": [
    "User predicitons \n",
    "---------------------"
   ]
  },
  {
   "cell_type": "code",
   "execution_count": 13,
   "metadata": {
    "collapsed": true
   },
   "outputs": [],
   "source": [
    "import pickle\n",
    "import numpy as np\n",
    "import comms"
   ]
  },
  {
   "cell_type": "code",
   "execution_count": 14,
   "metadata": {},
   "outputs": [],
   "source": [
    "model_packed = pickle.load(open(\"model_packed.pkl\", \"rb\"))\n",
    "embeddings_eval, nce_weights_eval, nce_biases_eval, dictionary = model_packed                        "
   ]
  },
  {
   "cell_type": "code",
   "execution_count": 15,
   "metadata": {
    "collapsed": true
   },
   "outputs": [],
   "source": [
    "def pred_order(ind_list):\n",
    "    \"\"\"\n",
    "    Order in which we will present item i to the user \n",
    "    \n",
    "    Arguments:\n",
    "    ind_list -- indices of items according to dictionary\n",
    "    \n",
    "    Return:\n",
    "    order_presented -- vector of shape (embeddings.shape[0], ), ith entry is order in which we present ith item\n",
    "    \"\"\"\n",
    "    mean_emb = np.mean(embeddings_eval[ind_list,:], axis=0)\n",
    "    preferences = comms.softmax(np.sum(nce_weights_eval * mean_emb, axis=1) + nce_biases_eval)\n",
    "    order_presented = len(preferences) - np.argsort(np.argsort(preferences)) \n",
    "    return order_presented"
   ]
  },
  {
   "cell_type": "code",
   "execution_count": 16,
   "metadata": {},
   "outputs": [
    {
     "data": {
      "text/plain": [
       "array([ 263,   64,   20, ...,  881, 1694,  543], dtype=int64)"
      ]
     },
     "execution_count": 16,
     "metadata": {},
     "output_type": "execute_result"
    }
   ],
   "source": [
    "## Example 1\n",
    "items = ['935752', '935752', '935752']\n",
    "item_indicies = [dictionary[item] for item in items]\n",
    "pred_order(item_indicies)"
   ]
  },
  {
   "cell_type": "code",
   "execution_count": null,
   "metadata": {
    "collapsed": true
   },
   "outputs": [],
   "source": []
  }
 ],
 "metadata": {
  "kernelspec": {
   "display_name": "Python 3",
   "language": "python",
   "name": "python3"
  },
  "language_info": {
   "codemirror_mode": {
    "name": "ipython",
    "version": 3
   },
   "file_extension": ".py",
   "mimetype": "text/x-python",
   "name": "python",
   "nbconvert_exporter": "python",
   "pygments_lexer": "ipython3",
   "version": "3.5.3"
  },
  "toc": {
   "colors": {
    "hover_highlight": "#DAA520",
    "navigate_num": "#000000",
    "navigate_text": "#333333",
    "running_highlight": "#FF0000",
    "selected_highlight": "#FFD700",
    "sidebar_border": "#EEEEEE",
    "wrapper_background": "#FFFFFF"
   },
   "moveMenuLeft": true,
   "nav_menu": {
    "height": "30px",
    "width": "252px"
   },
   "navigate_menu": true,
   "number_sections": true,
   "sideBar": true,
   "threshold": 4,
   "toc_cell": false,
   "toc_section_display": "block",
   "toc_window_display": false,
   "widenNotebook": false
  }
 },
 "nbformat": 4,
 "nbformat_minor": 2
}
