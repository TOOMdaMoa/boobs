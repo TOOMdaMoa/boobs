{
 "cells": [
  {
   "cell_type": "markdown",
   "metadata": {},
   "source": [
    "User predicitons \n",
    "---------------------"
   ]
  },
  {
   "cell_type": "code",
   "execution_count": 1,
   "metadata": {
    "collapsed": true
   },
   "outputs": [],
   "source": [
    "import pickle\n",
    "import numpy as np\n",
    "import comms"
   ]
  },
  {
   "cell_type": "code",
   "execution_count": 2,
   "metadata": {
    "collapsed": true
   },
   "outputs": [],
   "source": [
    "model_packed = pickle.load(open(\"model_packed.pkl\", \"rb\"))\n",
    "embeddings_eval, nce_weights_eval, nce_biases_eval, dictionary, reversed_dictionary = model_packed                        "
   ]
  },
  {
   "cell_type": "code",
   "execution_count": 3,
   "metadata": {
    "collapsed": true
   },
   "outputs": [],
   "source": [
    "def items_in_order(item_list):\n",
    "    \"\"\"\n",
    "    Order in which we will present item i to the user \n",
    "    \n",
    "    Arguments:\n",
    "    ind_list -- indices of items according to dictionary\n",
    "    \n",
    "    Return:\n",
    "    order_presented -- vector of shape (embeddings.shape[0], ), ith entry is order in which we present ith item\n",
    "    \"\"\"\n",
    "    ind_list = [dictionary[it] for it in item_list]\n",
    "    mean_emb = np.mean(embeddings_eval[ind_list,:], axis=0)\n",
    "    preferences = comms.softmax(np.sum(nce_weights_eval * mean_emb, axis=1) + nce_biases_eval)\n",
    "    order_presented = len(preferences) - np.argsort(np.argsort(preferences)) \n",
    "    items_in_order = [reversed_dictionary[i] for i in np.argsort(order_presented)]\n",
    "    return items_in_order"
   ]
  },
  {
   "cell_type": "code",
   "execution_count": 4,
   "metadata": {
    "collapsed": true
   },
   "outputs": [],
   "source": [
    "## Example 1\n",
    "items_from_bets_to_worst = items_in_order(['935752', '935752', '935752'])"
   ]
  },
  {
   "cell_type": "code",
   "execution_count": 6,
   "metadata": {},
   "outputs": [
    {
     "name": "stdout",
     "output_type": "stream",
     "text": [
      "Best 10 products\n"
     ]
    },
    {
     "data": {
      "text/plain": [
       "['1068432',\n",
       " '940658',\n",
       " '935726',\n",
       " '936103',\n",
       " '935880',\n",
       " '940792',\n",
       " '695506',\n",
       " '935570',\n",
       " '1065918',\n",
       " '920928']"
      ]
     },
     "execution_count": 6,
     "metadata": {},
     "output_type": "execute_result"
    }
   ],
   "source": [
    "print(\"Best 10 products\")\n",
    "items_from_bets_to_worst[0:10]"
   ]
  },
  {
   "cell_type": "code",
   "execution_count": null,
   "metadata": {
    "collapsed": true
   },
   "outputs": [],
   "source": []
  }
 ],
 "metadata": {
  "kernelspec": {
   "display_name": "Python 3",
   "language": "python",
   "name": "python3"
  },
  "language_info": {
   "codemirror_mode": {
    "name": "ipython",
    "version": 3
   },
   "file_extension": ".py",
   "mimetype": "text/x-python",
   "name": "python",
   "nbconvert_exporter": "python",
   "pygments_lexer": "ipython3",
   "version": "3.5.3"
  },
  "toc": {
   "colors": {
    "hover_highlight": "#DAA520",
    "navigate_num": "#000000",
    "navigate_text": "#333333",
    "running_highlight": "#FF0000",
    "selected_highlight": "#FFD700",
    "sidebar_border": "#EEEEEE",
    "wrapper_background": "#FFFFFF"
   },
   "moveMenuLeft": true,
   "nav_menu": {
    "height": "30px",
    "width": "252px"
   },
   "navigate_menu": true,
   "number_sections": true,
   "sideBar": true,
   "threshold": 4,
   "toc_cell": false,
   "toc_section_display": "block",
   "toc_window_display": false,
   "widenNotebook": false
  }
 },
 "nbformat": 4,
 "nbformat_minor": 2
}
