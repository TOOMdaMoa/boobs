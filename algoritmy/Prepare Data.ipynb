{
 "cells": [
  {
   "cell_type": "code",
   "execution_count": 1,
   "metadata": {
    "collapsed": true
   },
   "outputs": [],
   "source": [
    "## General libraries\n",
    "import numpy as np\n",
    "import tensorflow as tf\n",
    "import pandas as pd\n",
    "import collections\n",
    "import math\n",
    "import pprint\n",
    "import pickle\n",
    "\n",
    "## My libraries \n",
    "import comms"
   ]
  },
  {
   "cell_type": "code",
   "execution_count": 2,
   "metadata": {
    "collapsed": true
   },
   "outputs": [],
   "source": [
    "np.random.seed(0)"
   ]
  },
  {
   "cell_type": "markdown",
   "metadata": {},
   "source": [
    "Generate data \n",
    "-- \n",
    "- the data is list of user sessions, we define session as series of views that are not separated by no more than 1/2 hour (we are talking about consequtive views)\n",
    "\n",
    "- you better have a lot of RAM for this \n"
   ]
  },
  {
   "cell_type": "code",
   "execution_count": 3,
   "metadata": {},
   "outputs": [],
   "source": [
    "## Load data, split into users \n",
    "data = comms.load_jsons(\"products.json\") ## list of jsons, TESTING:    pprint.pprint(data[0], depth=1)\n",
    "\n",
    "user_item_time_df = comms.user_item_time(data)\n",
    "\n",
    "word_bags, date_bags, context_ids = comms.create_timed_contexts(user_item_time_df, remove_treshold = 1)"
   ]
  },
  {
   "cell_type": "code",
   "execution_count": 4,
   "metadata": {
    "collapsed": true
   },
   "outputs": [],
   "source": [
    "def make_cutted(bag_ind, treshold = 0): \n",
    "    \"\"\"\n",
    "    A little dirty solution here \n",
    "    Takes index of user and returns all his visits\n",
    "    The visits themselves and items in each visit are sorted chronologically \n",
    "    visit = sequence of views where consequtive views are separated by at most 1/2 hour\n",
    "    \n",
    "    Arguments:\n",
    "    bag_ind -- integer, just number from 0 to len(word_bags), \n",
    "               where word bags is the list from above cell\n",
    "    treshold -- remove user visits with length of treshold or less\n",
    "\n",
    "    Return:\n",
    "    db_cut -- list of lists of dates, \n",
    "              each inner list is one visit of user corresponding to bag_ind\n",
    "              and is sorted chronologically\n",
    "    wb_cut -- list of lists of items\n",
    "    cont -- list of user id, contains the same id repeated len(wb_cut) number of times\n",
    "    \"\"\"\n",
    "    datebag = date_bags[bag_ind]\n",
    "    wordbag = word_bags[bag_ind]\n",
    "    argsor = np.argsort(datebag)\n",
    "    datebag_sorted = np.array([datebag[i] for i in argsor])\n",
    "    wordbag_sorted = np.array([wordbag[i] for i in argsor])\n",
    "\n",
    "    half_hour = 30*60\n",
    "\n",
    "    cuts = np.argwhere(np.array([(datebag_sorted[i+1] - datebag_sorted[i]).seconds>half_hour for i in range(len(datebag)-1)]))\n",
    "    cuts = cuts + 1 \n",
    "    cuts = np.pad(cuts.flatten(), 1, \"constant\")\n",
    "    cuts[-1] = len(datebag)\n",
    "\n",
    "    datebag_cutted = [[datebag_sorted[cuts[i] : cuts[i+1]]] for i in range(len(cuts)-1)]\n",
    "    wordbag_cutted = [[wordbag_sorted[cuts[i] : cuts[i+1]]] for i in range(len(cuts)-1)]\n",
    "        \n",
    "    db_cut = [list(x[0]) for x in datebag_cutted if len(x[0]) > treshold]\n",
    "    wb_cut = [list(x[0]) for x in wordbag_cutted if len(x[0]) > treshold]\n",
    "    cont = [context_ids[bag_ind] for i in range(len(db_cut))] \n",
    "    return db_cut, wb_cut, cont"
   ]
  },
  {
   "cell_type": "code",
   "execution_count": 5,
   "metadata": {
    "collapsed": true
   },
   "outputs": [],
   "source": [
    "## Split users history into visits\n",
    "date_bags_sess = []\n",
    "word_bags_sess = []\n",
    "context_ids_sess = []\n",
    "\n",
    "for i in range(len(word_bags)):\n",
    "    db_cut, wb_cut, cont = make_cutted(i)\n",
    "    date_bags_sess.append(db_cut)\n",
    "    word_bags_sess.append(wb_cut)\n",
    "    context_ids_sess.append(cont)"
   ]
  },
  {
   "cell_type": "code",
   "execution_count": 6,
   "metadata": {
    "collapsed": true
   },
   "outputs": [],
   "source": [
    "num_client = len(date_bags_sess)"
   ]
  },
  {
   "cell_type": "code",
   "execution_count": 7,
   "metadata": {
    "collapsed": true
   },
   "outputs": [],
   "source": [
    "test_size = 500"
   ]
  },
  {
   "cell_type": "code",
   "execution_count": 8,
   "metadata": {
    "collapsed": true
   },
   "outputs": [],
   "source": [
    "## Split data to train and test set\n",
    "indices_test = np.random.choice(num_client, test_size, replace=False)\n",
    "indices_train = [i for i in range(num_client) if i not in indices_test]"
   ]
  },
  {
   "cell_type": "code",
   "execution_count": 9,
   "metadata": {
    "collapsed": true
   },
   "outputs": [],
   "source": [
    "date_bags_train = [date_bags_sess[i] for i in indices_train]\n",
    "word_bags_train = [word_bags_sess[i] for i in indices_train]\n",
    "context_ids_train = [context_ids_sess[i] for i in indices_train]\n",
    "\n",
    "date_bags_test = [date_bags_sess[i] for i in indices_test]\n",
    "word_bags_test = [word_bags_sess[i] for i in indices_test]\n",
    "context_ids_test = [context_ids_sess[i] for i in indices_test]"
   ]
  },
  {
   "cell_type": "code",
   "execution_count": 10,
   "metadata": {
    "collapsed": true
   },
   "outputs": [],
   "source": [
    "train = date_bags_train, word_bags_train, context_ids_train\n",
    "test = date_bags_test, word_bags_test, context_ids_test"
   ]
  },
  {
   "cell_type": "code",
   "execution_count": 11,
   "metadata": {
    "collapsed": true
   },
   "outputs": [],
   "source": [
    "pickle.dump(train,open( \"train_sessions.pkl\", \"wb\"))\n",
    "pickle.dump(test, open(\"test_sessions.pkl\", \"wb\"))"
   ]
  },
  {
   "cell_type": "code",
   "execution_count": null,
   "metadata": {
    "collapsed": true
   },
   "outputs": [],
   "source": []
  },
  {
   "cell_type": "code",
   "execution_count": null,
   "metadata": {
    "collapsed": true
   },
   "outputs": [],
   "source": []
  }
 ],
 "metadata": {
  "kernelspec": {
   "display_name": "Python 3",
   "language": "python",
   "name": "python3"
  },
  "language_info": {
   "codemirror_mode": {
    "name": "ipython",
    "version": 3
   },
   "file_extension": ".py",
   "mimetype": "text/x-python",
   "name": "python",
   "nbconvert_exporter": "python",
   "pygments_lexer": "ipython3",
   "version": "3.5.3"
  },
  "toc": {
   "colors": {
    "hover_highlight": "#DAA520",
    "navigate_num": "#000000",
    "navigate_text": "#333333",
    "running_highlight": "#FF0000",
    "selected_highlight": "#FFD700",
    "sidebar_border": "#EEEEEE",
    "wrapper_background": "#FFFFFF"
   },
   "moveMenuLeft": true,
   "nav_menu": {
    "height": "30px",
    "width": "252px"
   },
   "navigate_menu": true,
   "number_sections": true,
   "sideBar": true,
   "threshold": 4,
   "toc_cell": false,
   "toc_section_display": "block",
   "toc_window_display": false,
   "widenNotebook": false
  }
 },
 "nbformat": 4,
 "nbformat_minor": 2
}
