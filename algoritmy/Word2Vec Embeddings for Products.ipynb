{
 "cells": [
  {
   "cell_type": "markdown",
   "metadata": {},
   "source": [
    "Part 1 \n",
    "---------------"
   ]
  },
  {
   "cell_type": "code",
   "execution_count": 1,
   "metadata": {
    "collapsed": false
   },
   "outputs": [],
   "source": [
    "## Import packages we will use \n",
    "import json\n",
    "import pprint \n",
    "import numpy as np\n",
    "import pandas as pd\n",
    "import matplotlib.pyplot as plt\n",
    "import collections \n",
    "import tensorflow as tf\n",
    "from sklearn.manifold import TSNE"
   ]
  },
  {
   "cell_type": "code",
   "execution_count": 2,
   "metadata": {
    "collapsed": true
   },
   "outputs": [],
   "source": [
    "np.random.seed(11262017)"
   ]
  },
  {
   "cell_type": "code",
   "execution_count": 3,
   "metadata": {
    "collapsed": true
   },
   "outputs": [],
   "source": [
    "## Read the data, one line (= one json) at a time \n",
    "file = open(\"products-sample.json\")\n",
    "\n",
    "data = []\n",
    "\n",
    "for line in file:\n",
    "    data.append(json.loads(line))"
   ]
  },
  {
   "cell_type": "code",
   "execution_count": 4,
   "metadata": {
    "collapsed": false
   },
   "outputs": [
    {
     "name": "stdout",
     "output_type": "stream",
     "text": [
      "This is how one json looks like: \n",
      "\n",
      "{'brand': {...},\n",
      " 'brief_plain': {...},\n",
      " 'date': '2017-11-15T08:40:00.822Z',\n",
      " 'product_id': '1043735',\n",
      " 'product_type': {...},\n",
      " 'title_full': {...},\n",
      " 'user_id': 'f193a03cabf477202d7c342a8d199460',\n",
      " 'variant_data': [...],\n",
      " 'variant_id': '1043735004'}\n",
      "\n",
      "\n",
      "There are 106 jsons in the data\n"
     ]
    }
   ],
   "source": [
    "## Explore the data \n",
    "print(\"This is how one json looks like: \\n\")\n",
    "pprint.pprint(data[9], depth=1)\n",
    "## pprint.pprint(data[0][\"variant_data\"][0][\"params\"], depth=4)\n",
    "\n",
    "print(\"\\n\\nThere are\", len(data), \"jsons in the data\")"
   ]
  },
  {
   "cell_type": "markdown",
   "metadata": {},
   "source": [
    "Part 2\n",
    "--------------\n",
    "\n",
    "Now we will create list \"groups\" which will have structure\n",
    "\n",
    "[ [ids of products of customer 1], \n",
    "  [ids of products of customer 2],\n",
    "  .\n",
    "  .\n",
    "  .\n",
    "  [ids of products of customer n] ]"
   ]
  },
  {
   "cell_type": "code",
   "execution_count": 5,
   "metadata": {
    "collapsed": false
   },
   "outputs": [],
   "source": [
    "## Create dataframe with columns \"user_id\", \"product_id\"\n",
    "user_product = pd.DataFrame([{\"user\": j[\"user_id\"], \"product\" : j[\"product_id\"]} for j in data])"
   ]
  },
  {
   "cell_type": "code",
   "execution_count": 6,
   "metadata": {
    "collapsed": false
   },
   "outputs": [],
   "source": [
    "## Group \"user_product\" by user, select groups with at least 2 elements \n",
    "grouping = user_product.groupby(by=[\"user\"])\n",
    "group_series = grouping.product.apply(list)\n",
    "group_counts = list(grouping.count().iloc[:,0])\n",
    "at_least_2 = [x>1 for x in group_counts]\n",
    "groups = list(group_series[at_least_2])\n",
    "group_counts = [group_counts[i] for i in range(len(at_least_2)) if at_least_2[i]] "
   ]
  },
  {
   "cell_type": "code",
   "execution_count": 7,
   "metadata": {
    "collapsed": false
   },
   "outputs": [
    {
     "name": "stdout",
     "output_type": "stream",
     "text": [
      "These are the groups: \n",
      "\n",
      "[['935880', '935804'],\n",
      " ['1079941', '1079941'],\n",
      " ['1036818', '1067651'],\n",
      " ['1074485', '1070850'],\n",
      " ['1012091', '1077488'],\n",
      " ['1036823', '1063697', '1036823'],\n",
      " ['937412', '1079350'],\n",
      " ['1073114', '1069170', '996046', '1012185', '996046'],\n",
      " ['1076284', '1076361'],\n",
      " ['1085963', '1085963'],\n",
      " ['935880', '935880'],\n",
      " ['1091285', '1091285'],\n",
      " ['847827', '847829'],\n",
      " ['1039048', '1067061']]\n",
      "\n",
      "\n",
      "There are 14 groups\n"
     ]
    }
   ],
   "source": [
    "## Explore the groups (each representing a customer who viewed details of at least 2 products)\n",
    "## Notice that sometimes there are two identical products in one group (user viewed it twice)\n",
    "print(\"These are the groups: \\n\")\n",
    "pprint.pprint(groups)\n",
    "\n",
    "print(\"\\n\\nThere are\", len(groups), \"groups\")"
   ]
  },
  {
   "cell_type": "markdown",
   "metadata": {},
   "source": [
    "Part 3\n",
    "-----------------\n",
    "\n",
    "The rest of this notebook is heavily based on https://www.tensorflow.org/tutorials/word2vec\n",
    "\n",
    "The code is not very clean\n",
    "\n",
    "For each product (that is for each word in the terminology of word2vec) we learn its vector representation aka embedding\n",
    "\n",
    "This vector representation is designed in such a way that similar products (in the sense that they appear often together in one customers list) will have similar vectors (measured in standard eucleidean distance) "
   ]
  },
  {
   "cell_type": "code",
   "execution_count": 8,
   "metadata": {
    "collapsed": false
   },
   "outputs": [],
   "source": [
    "n_words = 50000\n",
    "words = [x for y in groups for x in y]\n",
    "counts = collections.Counter(words).most_common(n_words - 1)\n",
    "dictionary = dict()\n",
    "for word, _ in counts:\n",
    "        dictionary[word] = len(dictionary)\n",
    "reversed_dictionary = dict(zip(dictionary.values(), dictionary.keys()))"
   ]
  },
  {
   "cell_type": "code",
   "execution_count": 9,
   "metadata": {
    "collapsed": false
   },
   "outputs": [],
   "source": [
    "nr_contexts = len(group_counts)"
   ]
  },
  {
   "cell_type": "code",
   "execution_count": 10,
   "metadata": {
    "collapsed": true
   },
   "outputs": [],
   "source": [
    "def create_batch(batch_size = 8):\n",
    "    \"\"\" Creates batch of radnomly selected word indices and their context word indices\n",
    "    \n",
    "        Arguments:\n",
    "        batch_size -- len of word indices and context word indices \n",
    "        \n",
    "        Return: \n",
    "        batch -- word indices\n",
    "        labels -- context word indices \n",
    "    \"\"\"\n",
    "    batch = []\n",
    "    labels = []\n",
    "    ## select randomly word + word from context \n",
    "    ## first select randomly contexts (we select context with probability proportional to its number of words)\n",
    "    contexts_sample = np.random.multinomial(n = batch_size, pvals = group_counts/sum(group_counts))\n",
    "    for i in range(nr_contexts):\n",
    "        for j in range(contexts_sample[i]):\n",
    "            group_i = groups[i]\n",
    "            ii = np.random.choice(len(group_i), 2, replace=True)\n",
    "            batch.append(dictionary[group_i[ii[0]]])\n",
    "            labels.append(dictionary[group_i[ii[1]]])\n",
    "    return np.array(batch), np.array(labels).reshape((-1,1))\n",
    "        "
   ]
  },
  {
   "cell_type": "code",
   "execution_count": 11,
   "metadata": {
    "collapsed": true
   },
   "outputs": [],
   "source": [
    "## Size of training batch\n",
    "batch_size = 16\n",
    "\n",
    "## Length of word embedding vector\n",
    "embedding_size = 16\n",
    "\n",
    "## Number of distinct words\n",
    "vocabulary_size = len(counts)\n",
    "\n",
    "## Number of negative examples, see nonnegative sampling \n",
    "num_sampled = 16"
   ]
  },
  {
   "cell_type": "code",
   "execution_count": 12,
   "metadata": {
    "collapsed": false
   },
   "outputs": [],
   "source": [
    "## Definition of tensorflow model\n",
    "## this is basically copied source code from the link above\n",
    "\n",
    "train_inputs = tf.placeholder(tf.int32, shape=[batch_size])\n",
    "train_labels = tf.placeholder(tf.int32, shape=[batch_size, 1])\n",
    "\n",
    "embeddings = tf.Variable(tf.random_uniform([vocabulary_size, embedding_size], -1.0, 1.0))\n",
    "embed = tf.nn.embedding_lookup(embeddings, train_inputs)\n",
    "\n",
    "nce_weights = tf.Variable(\n",
    "            tf.truncated_normal([vocabulary_size, embedding_size],\n",
    "                            stddev=1.0 / np.sqrt(embedding_size)))\n",
    "nce_biases = tf.Variable(tf.zeros([vocabulary_size]))\n",
    "\n",
    "loss = tf.reduce_mean(\n",
    "            tf.nn.nce_loss(weights=nce_weights,\n",
    "                           biases=nce_biases,\n",
    "                           labels=train_labels,\n",
    "                           inputs=embed,\n",
    "                           num_sampled=num_sampled,\n",
    "                           num_classes=vocabulary_size))\n",
    "\n",
    "optimizer = tf.train.GradientDescentOptimizer(1.0).minimize(loss)\n",
    "\n",
    "init = tf.global_variables_initializer()"
   ]
  },
  {
   "cell_type": "code",
   "execution_count": 13,
   "metadata": {
    "collapsed": true
   },
   "outputs": [],
   "source": [
    "sess = tf.Session()\n",
    "sess.run(init)"
   ]
  },
  {
   "cell_type": "code",
   "execution_count": 14,
   "metadata": {
    "collapsed": false
   },
   "outputs": [],
   "source": [
    "## Learn the embeddings\n",
    "for i in range(30000): \n",
    "    batch, labels = create_batch(batch_size)\n",
    "    sess.run(optimizer, {train_inputs : batch, train_labels : labels})"
   ]
  },
  {
   "cell_type": "code",
   "execution_count": 15,
   "metadata": {
    "collapsed": false
   },
   "outputs": [],
   "source": [
    "## Embeddings matrix (each row is embedding of one word) \n",
    "E = sess.run(embeddings)"
   ]
  },
  {
   "cell_type": "code",
   "execution_count": 16,
   "metadata": {
    "collapsed": false
   },
   "outputs": [
    {
     "data": {
      "text/plain": [
       "(25, 16)"
      ]
     },
     "execution_count": 16,
     "metadata": {},
     "output_type": "execute_result"
    }
   ],
   "source": [
    "E.shape"
   ]
  },
  {
   "cell_type": "markdown",
   "metadata": {},
   "source": [
    "We can display the embeddings using a technique called t-SNE, this basicaly maps the 16 dimensional vectors to 2 dimensional vectors in a way that vectors that had small eucleidean distance in the 16 dimensions will have small eucleidean distance in the 2 dimensions"
   ]
  },
  {
   "cell_type": "code",
   "execution_count": 17,
   "metadata": {
    "collapsed": false
   },
   "outputs": [
    {
     "data": {
      "text/plain": [
       "(25, 2)"
      ]
     },
     "execution_count": 17,
     "metadata": {},
     "output_type": "execute_result"
    }
   ],
   "source": [
    "E_embedded = TSNE(n_components=2).fit_transform(E)\n",
    "E_embedded.shape"
   ]
  },
  {
   "cell_type": "code",
   "execution_count": 18,
   "metadata": {
    "collapsed": false
   },
   "outputs": [
    {
     "data": {
      "text/plain": [
       "array(['blue', 'blue', 'blue', 'blue', 'blue', 'red', 'blue', 'blue',\n",
       "       'blue', 'blue', 'blue', 'blue', 'red', 'red', 'blue', 'blue',\n",
       "       'blue', 'blue', 'blue', 'blue', 'blue', 'blue', 'blue', 'blue',\n",
       "       'red'], \n",
       "      dtype='<U4')"
      ]
     },
     "execution_count": 18,
     "metadata": {},
     "output_type": "execute_result"
    }
   ],
   "source": [
    "customer_7 = np.repeat(\"blue\", E.shape[0])\n",
    "customer_7[[i for k,i in dictionary.items() if k in groups[7]]] = \"red\"\n",
    "customer_7"
   ]
  },
  {
   "cell_type": "markdown",
   "metadata": {},
   "source": [
    "Now we can plot TSNE of the embeddings, notice that for example items of one customer are close together "
   ]
  },
  {
   "cell_type": "code",
   "execution_count": 19,
   "metadata": {
    "collapsed": false
   },
   "outputs": [
    {
     "data": {
      "image/png": "[encoded data removed]",
      "text/plain": [
       "<matplotlib.figure.Figure at 0x1dc87909ba8>"
      ]
     },
     "metadata": {},
     "output_type": "display_data"
    }
   ],
   "source": [
    "plt.scatter(E[:,0], E[:,1], c=customer_7)\n",
    "plt.show()"
   ]
  },
  {
   "cell_type": "code",
   "execution_count": null,
   "metadata": {
    "collapsed": true
   },
   "outputs": [],
   "source": [
    "\n"
   ]
  }
 ],
 "metadata": {
  "kernelspec": {
   "display_name": "Python 3",
   "language": "python",
   "name": "python3"
  },
  "language_info": {
   "codemirror_mode": {
    "name": "ipython",
    "version": 3
   },
   "file_extension": ".py",
   "mimetype": "text/x-python",
   "name": "python",
   "nbconvert_exporter": "python",
   "pygments_lexer": "ipython3",
   "version": "3.5.3"
  }
 },
 "nbformat": 4,
 "nbformat_minor": 2
}
