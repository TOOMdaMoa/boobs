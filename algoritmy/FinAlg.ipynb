{
 "cells": [
  {
   "cell_type": "code",
   "execution_count": 1,
   "metadata": {
    "collapsed": true
   },
   "outputs": [],
   "source": [
    "## General libraries\n",
    "import numpy as np\n",
    "import tensorflow as tf\n",
    "import pandas as pd\n",
    "import collections\n",
    "import math\n",
    "import pprint\n",
    "import pickle\n",
    "\n",
    "## My libraries \n",
    "import comms"
   ]
  },
  {
   "cell_type": "code",
   "execution_count": 2,
   "metadata": {
    "collapsed": true
   },
   "outputs": [],
   "source": [
    "## Optimization Settings  \n",
    "counts_alg = \"A\"\n",
    "genbatch_alg = \"A\"\n",
    "batch_size = 32\n",
    "embedding_size = 32\n",
    "num_sampled = 16\n",
    "num_iter = 50000"
   ]
  },
  {
   "cell_type": "markdown",
   "metadata": {},
   "source": [
    "** Load and format data to sessions and make test and train set **"
   ]
  },
  {
   "cell_type": "code",
   "execution_count": 3,
   "metadata": {
    "collapsed": true
   },
   "outputs": [],
   "source": [
    "date_bags_train, word_bags_train, context_ids_train = pickle.load( open( \"train_sessions.pkl\", \"rb\" ) )\n",
    "date_bags_test, word_bags_test, context_ids_test = pickle.load( open( \"test_sessions.pkl\", \"rb\" ) )"
   ]
  },
  {
   "cell_type": "markdown",
   "metadata": {},
   "source": [
    "** Generate data for training the model **"
   ]
  },
  {
   "cell_type": "code",
   "execution_count": 4,
   "metadata": {
    "collapsed": true
   },
   "outputs": [],
   "source": [
    "## 1) context == all data of one user \n",
    "word_bags_all_per_user = [[w for wb in word_bag for w in wb] for word_bag in word_bags_train] ## np.sum(np.array([len(w)<2 for w in word_bags_all_per_user]))\n",
    "\n",
    "## 2) context = one user session \n",
    "word_bags_all_per_sess = [wb for word_bag in word_bags_train for wb in word_bag]\n",
    "word_bags_all_per_sess = [wb for wb in word_bags_all_per_sess if len(wb) >= 2] ## np.sum(np.array([len(x)<2 for x in word_bags_all_per_sess]))"
   ]
  },
  {
   "cell_type": "code",
   "execution_count": 5,
   "metadata": {},
   "outputs": [],
   "source": [
    "flat_wb_tr = [[w for wb in word_bag for w in wb] for word_bag in word_bags_train]\n",
    "flat_wb_ts = [[w for wb in word_bag for w in wb] for word_bag in word_bags_test]\n",
    "sharp_wb = flat_wb_tr\n",
    "sharp_wb.extend(flat_wb_ts)"
   ]
  },
  {
   "cell_type": "markdown",
   "metadata": {},
   "source": [
    "** Dict and batch gen **"
   ]
  },
  {
   "cell_type": "code",
   "execution_count": 6,
   "metadata": {},
   "outputs": [],
   "source": [
    "dictionary, reversed_dictionary = comms.create_dictionary(sharp_wb, counts_alg)\n",
    "\n",
    "## Number of distinct words in vocabulary\n",
    "vocabulary_size = len(dictionary)\n",
    "\n",
    "genbatch_prereq = comms.create_genbatch_prerequisities(sharp_wb, dictionary)\n",
    "\n",
    "def generate_batch(batch_size): \n",
    "    return comms.generate_batch(batch_size, genbatch_prereq, genbatch_alg) "
   ]
  },
  {
   "cell_type": "code",
   "execution_count": null,
   "metadata": {
    "collapsed": true
   },
   "outputs": [],
   "source": [
    "dictionary, reversed_dictionary = comms.create_dictionary(word_bags_all_per_sess, counts_alg)\n",
    "\n",
    "## Number of distinct words in vocabulary\n",
    "vocabulary_size = len(dictionary)\n",
    "\n",
    "genbatch_prereq = comms.create_genbatch_prerequisities(word_bags_all_per_sess, dictionary)\n",
    "\n",
    "def generate_batch(batch_size): \n",
    "    return comms.generate_batch(batch_size, genbatch_prereq, genbatch_alg) "
   ]
  },
  {
   "cell_type": "markdown",
   "metadata": {},
   "source": [
    "** Build model and train the shit out of it **"
   ]
  },
  {
   "cell_type": "code",
   "execution_count": 7,
   "metadata": {},
   "outputs": [],
   "source": [
    "w2v_model = comms.create_w2v_tf_model(batch_size, embedding_size, vocabulary_size, num_sampled, learn_rate = 1.0)\n",
    "train_inputs, train_labels, embeddings, nce_weights, nce_biases, loss, optimizer, init = w2v_model"
   ]
  },
  {
   "cell_type": "code",
   "execution_count": 8,
   "metadata": {
    "collapsed": true
   },
   "outputs": [],
   "source": [
    "sess = tf.Session()\n",
    "sess.run(init)"
   ]
  },
  {
   "cell_type": "code",
   "execution_count": 9,
   "metadata": {},
   "outputs": [
    {
     "name": "stdout",
     "output_type": "stream",
     "text": [
      "Loss at iteration 0  :  61.6597\n",
      "Loss at iteration 1000  :  9.00811\n",
      "Loss at iteration 2000  :  3.44616\n",
      "Loss at iteration 3000  :  3.36423\n",
      "Loss at iteration 4000  :  2.36928\n",
      "Loss at iteration 5000  :  2.61851\n",
      "Loss at iteration 6000  :  2.58072\n",
      "Loss at iteration 7000  :  2.31807\n",
      "Loss at iteration 8000  :  4.09736\n",
      "Loss at iteration 9000  :  2.32414\n",
      "Loss at iteration 10000  :  2.22923\n",
      "Loss at iteration 11000  :  2.81525\n",
      "Loss at iteration 12000  :  2.38142\n",
      "Loss at iteration 13000  :  3.36637\n",
      "Loss at iteration 14000  :  2.49533\n",
      "Loss at iteration 15000  :  3.41801\n",
      "Loss at iteration 16000  :  2.35381\n",
      "Loss at iteration 17000  :  2.49615\n",
      "Loss at iteration 18000  :  1.40717\n",
      "Loss at iteration 19000  :  1.87586\n",
      "Loss at iteration 20000  :  2.71324\n",
      "Loss at iteration 21000  :  1.87219\n",
      "Loss at iteration 22000  :  1.58053\n",
      "Loss at iteration 23000  :  1.51453\n",
      "Loss at iteration 24000  :  1.81888\n",
      "Loss at iteration 25000  :  1.99346\n",
      "Loss at iteration 26000  :  1.51402\n",
      "Loss at iteration 27000  :  2.63601\n",
      "Loss at iteration 28000  :  1.58212\n",
      "Loss at iteration 29000  :  1.59638\n",
      "Loss at iteration 30000  :  1.93456\n",
      "Loss at iteration 31000  :  1.97985\n",
      "Loss at iteration 32000  :  1.5069\n",
      "Loss at iteration 33000  :  3.74262\n",
      "Loss at iteration 34000  :  1.8893\n",
      "Loss at iteration 35000  :  1.68138\n",
      "Loss at iteration 36000  :  1.50205\n",
      "Loss at iteration 37000  :  1.26116\n",
      "Loss at iteration 38000  :  3.25889\n",
      "Loss at iteration 39000  :  1.64952\n",
      "Loss at iteration 40000  :  1.77921\n",
      "Loss at iteration 41000  :  2.21071\n",
      "Loss at iteration 42000  :  1.52427\n",
      "Loss at iteration 43000  :  1.81169\n",
      "Loss at iteration 44000  :  1.64198\n",
      "Loss at iteration 45000  :  2.13896\n",
      "Loss at iteration 46000  :  1.80613\n",
      "Loss at iteration 47000  :  1.43019\n",
      "Loss at iteration 48000  :  2.14254\n",
      "Loss at iteration 49000  :  1.52637\n"
     ]
    }
   ],
   "source": [
    "## Learn the embeddings\n",
    "for i in range(num_iter): \n",
    "    batch, labels = generate_batch(batch_size)\n",
    "    _, loss_eval = sess.run([optimizer, loss], {train_inputs : batch, train_labels : labels})\n",
    "    if i % 1000 == 0: \n",
    "        print(\"Loss at iteration\",i, \" : \",loss_eval)"
   ]
  },
  {
   "cell_type": "code",
   "execution_count": 10,
   "metadata": {},
   "outputs": [],
   "source": [
    "embeddings_eval, nce_weights_eval, nce_biases_eval = sess.run([embeddings, nce_weights, nce_biases]) "
   ]
  },
  {
   "cell_type": "code",
   "execution_count": 11,
   "metadata": {
    "collapsed": true
   },
   "outputs": [],
   "source": [
    "model_packed = embeddings_eval, nce_weights_eval, nce_biases_eval, dictionary, reversed_dictionary\n",
    "pickle.dump(model_packed, open(\"model_packed.pkl\", \"wb\"))"
   ]
  },
  {
   "cell_type": "markdown",
   "metadata": {},
   "source": [
    "** Test that shit **"
   ]
  },
  {
   "cell_type": "markdown",
   "metadata": {},
   "source": [
    "** Eval whole user history **"
   ]
  },
  {
   "cell_type": "code",
   "execution_count": 12,
   "metadata": {
    "collapsed": true
   },
   "outputs": [],
   "source": [
    "wb_two_sess = [wb for wb in word_bags_test if len(wb)>=2]\n",
    "wb_test_flat = [[w for wb in word_bag for w in wb] for word_bag in word_bags_test]  ## np.sum(np.array([len(x)<2 for x in wb_test_flat])) "
   ]
  },
  {
   "cell_type": "code",
   "execution_count": 13,
   "metadata": {
    "code_folding": [],
    "collapsed": true
   },
   "outputs": [],
   "source": [
    "def pred_order(ind_list):\n",
    "    \"\"\"\n",
    "    Order in which we will present item i to the user \n",
    "    \n",
    "    Arguments:\n",
    "    ind_list -- indices of items according to dictionary\n",
    "    \n",
    "    Return:\n",
    "    order_presented -- vector of shape (embeddings.shape[0], ), ith entry is order in which we present ith item\n",
    "    \"\"\"\n",
    "    mean_emb = np.mean(embeddings_eval[ind_list,:], axis=0)\n",
    "    preferences = comms.softmax(np.sum(nce_weights_eval * mean_emb, axis=1) + nce_biases_eval)\n",
    "    order_presented = len(preferences) - np.argsort(np.argsort(preferences)) \n",
    "    return order_presented"
   ]
  },
  {
   "cell_type": "code",
   "execution_count": 14,
   "metadata": {
    "collapsed": true
   },
   "outputs": [],
   "source": [
    "def eval_one_sess(sess, naive=False): \n",
    "    \"\"\"\n",
    "    sess -- list of item ids\n",
    "    naive -- use naive approach for defining order, we present items that were already selected\n",
    "             returns order 1 if predicted item is in past items\n",
    "             returns 1000 if predicted item is not in past items\n",
    "    \n",
    "    \"\"\"\n",
    "    ind = [dictionary.get(s) for s in sess]\n",
    "    ind = [i for i in ind if i != None]\n",
    "    if len(ind) == 0:\n",
    "        return []\n",
    "    else: \n",
    "        sess_orders = []\n",
    "        for j in range(1, len(ind)-1):\n",
    "            if naive: \n",
    "                sess_orders.append(1 if ind[j] in ind[0:j] else 1000)\n",
    "            else:\n",
    "                sess_orders.append(pred_order(ind[0:j])[ind[j]])\n",
    "    return sess_orders\n",
    "            "
   ]
  },
  {
   "cell_type": "code",
   "execution_count": 15,
   "metadata": {},
   "outputs": [
    {
     "name": "stdout",
     "output_type": "stream",
     "text": [
      "Number of testing users:  500\n",
      "Number of testing users, where prediction available: 293\n",
      "Number of users that had more than half of their predictions on first page:  160\n",
      "Number of users that had more than 90% of their predictions on first page:  111\n"
     ]
    }
   ],
   "source": [
    "nai = True\n",
    "evals_for_flat_users = [eval_one_sess(s, naive=nai) for s in wb_test_flat]\n",
    "print(\"Number of testing users: \", len(evals_for_flat_users))\n",
    "print(\"Number of testing users, where prediction available:\", np.sum(np.array([len(x) > 0 for x in evals_for_flat_users])))\n",
    "median_evals_for_flat_users = [np.median(e) for e in evals_for_flat_users if len(e) > 0]\n",
    "percentile_evals_for_flat_users = [np.percentile(e,90) for e in evals_for_flat_users if len(e) > 0]\n",
    "print(\"Number of users that had more than half of their predictions on first page: \", np.sum(np.array([e <= 48 for e in median_evals_for_flat_users])))\n",
    "print(\"Number of users that had more than 90% of their predictions on first page: \", np.sum(np.array([e <= 48 for e in percentile_evals_for_flat_users])))"
   ]
  },
  {
   "cell_type": "code",
   "execution_count": 16,
   "metadata": {},
   "outputs": [
    {
     "name": "stdout",
     "output_type": "stream",
     "text": [
      "[1, 1000, 1000, 1, 1, 1, 1, 1, 1, 1]\n",
      "[1, 1, 1, 1, 1, 1, 1000, 1, 1]\n",
      "[1, 1, 1000, 1, 1, 1, 1000]\n"
     ]
    }
   ],
   "source": [
    "print(evals_for_flat_users[8])\n",
    "print(evals_for_flat_users[9])\n",
    "print(evals_for_flat_users[7])"
   ]
  },
  {
   "cell_type": "code",
   "execution_count": 17,
   "metadata": {},
   "outputs": [
    {
     "name": "stdout",
     "output_type": "stream",
     "text": [
      "Number of testing users:  500\n",
      "Number of testing users, where prediction available: 293\n",
      "Number of users that had more than half of their predictions on first page:  230\n",
      "Number of users that had more than 90% of their predictions on first page:  208\n"
     ]
    }
   ],
   "source": [
    "nai = False\n",
    "evals_for_flat_users = [eval_one_sess(s, naive=nai) for s in wb_test_flat]\n",
    "print(\"Number of testing users: \", len(evals_for_flat_users))\n",
    "print(\"Number of testing users, where prediction available:\", np.sum(np.array([len(x) > 0 for x in evals_for_flat_users])))\n",
    "median_evals_for_flat_users = [np.median(e) for e in evals_for_flat_users if len(e) > 0]\n",
    "percentile_evals_for_flat_users = [np.percentile(e,90) for e in evals_for_flat_users if len(e) > 0]\n",
    "print(\"Number of users that had more than half of their predictions on first page: \", np.sum(np.array([e <= 48 for e in median_evals_for_flat_users])))\n",
    "print(\"Number of users that had more than 90% of their predictions on first page: \", np.sum(np.array([e <= 48 for e in percentile_evals_for_flat_users])))"
   ]
  },
  {
   "cell_type": "code",
   "execution_count": 18,
   "metadata": {
    "collapsed": true
   },
   "outputs": [],
   "source": [
    "import matplotlib.pyplot as plt"
   ]
  },
  {
   "cell_type": "code",
   "execution_count": 19,
   "metadata": {},
   "outputs": [
    {
     "data": {
      "image/png": "[encoded data removed]",
      "text/plain": [
       "<matplotlib.figure.Figure at 0xfd60940>"
      ]
     },
     "metadata": {},
     "output_type": "display_data"
    }
   ],
   "source": [
    "plt.figure(figsize=(25,7))\n",
    "plt.hist(median_evals_for_flat_users, range=[0,100], alpha=0.8, bins=30)\n",
    "plt.title(\"Kolikaty byl hledany produkt v nasem doporuceni?\", size = 20)\n",
    "plt.xlabel(\"Poradi produktu v nasem doporuceni (median)\", size= 15)\n",
    "plt.ylabel(\"Pocet uzivatelu\", size = 15)\n",
    "plt.vlines(x=48, ymin=0, ymax=40, linestyles=\"dotted\")\n",
    "plt.grid()\n",
    "plt.show()"
   ]
  },
  {
   "cell_type": "code",
   "execution_count": null,
   "metadata": {
    "collapsed": true
   },
   "outputs": [],
   "source": []
  },
  {
   "cell_type": "code",
   "execution_count": null,
   "metadata": {
    "collapsed": true
   },
   "outputs": [],
   "source": []
  },
  {
   "cell_type": "markdown",
   "metadata": {},
   "source": [
    "** Eval new session **"
   ]
  },
  {
   "cell_type": "code",
   "execution_count": null,
   "metadata": {
    "collapsed": true
   },
   "outputs": [],
   "source": []
  }
 ],
 "metadata": {
  "kernelspec": {
   "display_name": "Python 3",
   "language": "python",
   "name": "python3"
  },
  "language_info": {
   "codemirror_mode": {
    "name": "ipython",
    "version": 3
   },
   "file_extension": ".py",
   "mimetype": "text/x-python",
   "name": "python",
   "nbconvert_exporter": "python",
   "pygments_lexer": "ipython3",
   "version": "3.5.3"
  },
  "toc": {
   "colors": {
    "hover_highlight": "#DAA520",
    "navigate_num": "#000000",
    "navigate_text": "#333333",
    "running_highlight": "#FF0000",
    "selected_highlight": "#FFD700",
    "sidebar_border": "#EEEEEE",
    "wrapper_background": "#FFFFFF"
   },
   "moveMenuLeft": true,
   "nav_menu": {
    "height": "12px",
    "width": "252px"
   },
   "navigate_menu": true,
   "number_sections": true,
   "sideBar": true,
   "threshold": 4,
   "toc_cell": false,
   "toc_section_display": "block",
   "toc_window_display": false,
   "widenNotebook": false
  }
 },
 "nbformat": 4,
 "nbformat_minor": 2
}
