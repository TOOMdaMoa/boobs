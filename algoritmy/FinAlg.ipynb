{
 "cells": [
  {
   "cell_type": "markdown",
   "metadata": {},
   "source": [
    "Word2vec -- final algorithm \n",
    "-------------------\n",
    "- This solution is based on Tomas Mikolov's word2vec algorithm used for generating vectors for words given some corpus of text, basic idea is that similar words have similar vectors \n",
    "- For more information on this original algorithm see nice explanation here https://www.tensorflow.org/tutorials/word2vec \n",
    "- For use in natural language the algorithm needs just the words and definition of context, that can be for example the two surrounding words in the text corpus \n",
    "- First it is important to note that we DO NOT use any text information about products, instead of corpus of text we fed corpus of items (for the algorithm item can be string, number, hash -- basically anything that corresponds uniquely to one mall.cz product) and we defined that context of one item are other items that one user viewed in one visit -- so the ONLY thing that we exploit are the groupings of items into visits\n",
    "- This approach offers great flexibility in both fitting the model (different definitions of context) and making the prediction (we can take products the user viewed long ago with smaller weights etc.)"
   ]
  },
  {
   "cell_type": "code",
   "execution_count": 1,
   "metadata": {
    "collapsed": true
   },
   "outputs": [],
   "source": [
    "## General libraries\n",
    "import numpy as np\n",
    "import tensorflow as tf\n",
    "import pandas as pd\n",
    "import collections\n",
    "import math\n",
    "import pprint\n",
    "import pickle\n",
    "\n",
    "## My libraries \n",
    "import comms"
   ]
  },
  {
   "cell_type": "code",
   "execution_count": 2,
   "metadata": {
    "collapsed": true
   },
   "outputs": [],
   "source": [
    "## Optimization Settings  \n",
    "counts_alg = \"A\"\n",
    "genbatch_alg = \"A\"\n",
    "batch_size = 32\n",
    "embedding_size = 32\n",
    "num_sampled = 16\n",
    "num_iter = 50000"
   ]
  },
  {
   "cell_type": "markdown",
   "metadata": {},
   "source": [
    "** Load and format data to sessions and make test and train set **"
   ]
  },
  {
   "cell_type": "code",
   "execution_count": 3,
   "metadata": {
    "collapsed": true
   },
   "outputs": [],
   "source": [
    "date_bags_train, word_bags_train, context_ids_train = pickle.load( open( \"train_sessions.pkl\", \"rb\" ) )\n",
    "date_bags_test, word_bags_test, context_ids_test = pickle.load( open( \"test_sessions.pkl\", \"rb\" ) )"
   ]
  },
  {
   "cell_type": "code",
   "execution_count": 4,
   "metadata": {
    "collapsed": true
   },
   "outputs": [],
   "source": [
    "bots = [\"0412468358e09411dfbabeed26fce809\", \"d0ef1e7d53b869c477dbbd4ec6cbc46d\"]\n",
    "word_bags_train = [wbt for wbt,ctx in zip(word_bags_train, context_ids_train) if ctx not in bots]"
   ]
  },
  {
   "cell_type": "markdown",
   "metadata": {},
   "source": [
    "** Generate data for training the model **"
   ]
  },
  {
   "cell_type": "code",
   "execution_count": 6,
   "metadata": {
    "collapsed": true
   },
   "outputs": [],
   "source": [
    "## 1) context == all data of one user \n",
    "# word_bags_all_per_user = [[w for wb in word_bag for w in wb] for word_bag in word_bags_train] ## np.sum(np.array([len(w)<2 for w in word_bags_all_per_user]))\n",
    "\n",
    "## 2) context = one user visit\n",
    "word_bags_all_per_sess = [wb for word_bag in word_bags_train for wb in word_bag]\n",
    "word_bags_all_per_sess = [wb for wb in word_bags_all_per_sess if len(wb) >= 2] ## np.sum(np.array([len(x)<2 for x in word_bags_all_per_sess]))"
   ]
  },
  {
   "cell_type": "markdown",
   "metadata": {},
   "source": [
    "** Generate dictionary and batch generating function **"
   ]
  },
  {
   "cell_type": "code",
   "execution_count": 7,
   "metadata": {
    "collapsed": true
   },
   "outputs": [],
   "source": [
    "dictionary, reversed_dictionary = comms.create_dictionary(word_bags_all_per_sess, counts_alg)\n",
    "\n",
    "## Number of distinct words in vocabulary\n",
    "vocabulary_size = len(dictionary)\n",
    "\n",
    "genbatch_prereq = comms.create_genbatch_prerequisities(word_bags_all_per_sess, dictionary)\n",
    "\n",
    "def generate_batch(batch_size): \n",
    "    return comms.generate_batch(batch_size, genbatch_prereq, genbatch_alg) "
   ]
  },
  {
   "cell_type": "markdown",
   "metadata": {},
   "source": [
    "** Build model and train the shit out of it **"
   ]
  },
  {
   "cell_type": "code",
   "execution_count": 8,
   "metadata": {
    "collapsed": true
   },
   "outputs": [],
   "source": [
    "w2v_model = comms.create_w2v_tf_model(batch_size, embedding_size, vocabulary_size, num_sampled, learn_rate = 1.0)\n",
    "train_inputs, train_labels, embeddings, nce_weights, nce_biases, loss, optimizer, init = w2v_model"
   ]
  },
  {
   "cell_type": "code",
   "execution_count": 9,
   "metadata": {
    "collapsed": true
   },
   "outputs": [],
   "source": [
    "sess = tf.Session()\n",
    "sess.run(init)"
   ]
  },
  {
   "cell_type": "code",
   "execution_count": 10,
   "metadata": {},
   "outputs": [
    {
     "name": "stdout",
     "output_type": "stream",
     "text": [
      "Loss at iteration 0  :  47.9549\n",
      "Loss at iteration 1000  :  7.3356\n",
      "Loss at iteration 2000  :  3.35014\n",
      "Loss at iteration 3000  :  2.40287\n",
      "Loss at iteration 4000  :  2.31406\n",
      "Loss at iteration 5000  :  2.87321\n",
      "Loss at iteration 6000  :  2.14625\n",
      "Loss at iteration 7000  :  1.88034\n",
      "Loss at iteration 8000  :  1.82349\n",
      "Loss at iteration 9000  :  1.35073\n",
      "Loss at iteration 10000  :  2.17591\n",
      "Loss at iteration 11000  :  1.66834\n",
      "Loss at iteration 12000  :  1.97547\n",
      "Loss at iteration 13000  :  1.65538\n",
      "Loss at iteration 14000  :  2.05232\n",
      "Loss at iteration 15000  :  1.42181\n",
      "Loss at iteration 16000  :  1.5521\n",
      "Loss at iteration 17000  :  1.53365\n",
      "Loss at iteration 18000  :  1.21607\n",
      "Loss at iteration 19000  :  1.25526\n",
      "Loss at iteration 20000  :  1.65938\n",
      "Loss at iteration 21000  :  1.9944\n",
      "Loss at iteration 22000  :  1.19195\n",
      "Loss at iteration 23000  :  1.32677\n",
      "Loss at iteration 24000  :  1.43273\n",
      "Loss at iteration 25000  :  2.31923\n",
      "Loss at iteration 26000  :  2.38598\n",
      "Loss at iteration 27000  :  1.38105\n",
      "Loss at iteration 28000  :  1.038\n",
      "Loss at iteration 29000  :  1.37077\n",
      "Loss at iteration 30000  :  1.36223\n",
      "Loss at iteration 31000  :  1.425\n",
      "Loss at iteration 32000  :  1.1052\n",
      "Loss at iteration 33000  :  0.964958\n",
      "Loss at iteration 34000  :  1.13329\n",
      "Loss at iteration 35000  :  1.87471\n",
      "Loss at iteration 36000  :  1.00417\n",
      "Loss at iteration 37000  :  1.42261\n",
      "Loss at iteration 38000  :  1.42644\n",
      "Loss at iteration 39000  :  1.36374\n",
      "Loss at iteration 40000  :  1.31024\n",
      "Loss at iteration 41000  :  1.40398\n",
      "Loss at iteration 42000  :  1.20266\n",
      "Loss at iteration 43000  :  0.948409\n",
      "Loss at iteration 44000  :  1.23034\n",
      "Loss at iteration 45000  :  1.59801\n",
      "Loss at iteration 46000  :  1.20734\n",
      "Loss at iteration 47000  :  1.17487\n",
      "Loss at iteration 48000  :  1.32067\n",
      "Loss at iteration 49000  :  1.0863\n"
     ]
    }
   ],
   "source": [
    "## Learn the embeddings\n",
    "for i in range(num_iter): \n",
    "    batch, labels = generate_batch(batch_size)\n",
    "    _, loss_eval = sess.run([optimizer, loss], {train_inputs : batch, train_labels : labels})\n",
    "    if i % 1000 == 0: \n",
    "        print(\"Loss at iteration\",i, \" : \",loss_eval)"
   ]
  },
  {
   "cell_type": "code",
   "execution_count": 11,
   "metadata": {
    "collapsed": true
   },
   "outputs": [],
   "source": [
    "embeddings_eval, nce_weights_eval, nce_biases_eval = sess.run([embeddings, nce_weights, nce_biases]) "
   ]
  },
  {
   "cell_type": "code",
   "execution_count": 12,
   "metadata": {
    "collapsed": true
   },
   "outputs": [],
   "source": [
    "model_packed = embeddings_eval, nce_weights_eval, nce_biases_eval, dictionary, reversed_dictionary\n",
    "pickle.dump(model_packed, open(\"model_packed.pkl\", \"wb\"))"
   ]
  },
  {
   "cell_type": "markdown",
   "metadata": {},
   "source": [
    "** Test that shit **"
   ]
  },
  {
   "cell_type": "markdown",
   "metadata": {},
   "source": [
    "** Eval whole user history **"
   ]
  },
  {
   "cell_type": "code",
   "execution_count": 13,
   "metadata": {
    "collapsed": true
   },
   "outputs": [],
   "source": [
    "wb_two_sess = [wb for wb in word_bags_test if len(wb)>=2]\n",
    "wb_test_flat = [[w for wb in word_bag for w in wb] for word_bag in word_bags_test]  ## np.sum(np.array([len(x)<2 for x in wb_test_flat])) "
   ]
  },
  {
   "cell_type": "code",
   "execution_count": 14,
   "metadata": {
    "code_folding": [],
    "collapsed": true
   },
   "outputs": [],
   "source": [
    "def pred_order(ind_list):\n",
    "    \"\"\"\n",
    "    Order in which we will present item i to the user \n",
    "    \n",
    "    Arguments:\n",
    "    ind_list -- indices of items according to dictionary\n",
    "    \n",
    "    Return:\n",
    "    order_presented -- vector of shape (embeddings.shape[0], ), ith entry is order in which we present ith item\n",
    "    \"\"\"\n",
    "    mean_emb = np.mean(embeddings_eval[ind_list,:], axis=0)\n",
    "    preferences = comms.softmax(np.sum(nce_weights_eval * mean_emb, axis=1) + nce_biases_eval)\n",
    "    order_presented = len(preferences) - np.argsort(np.argsort(preferences)) \n",
    "    return order_presented"
   ]
  },
  {
   "cell_type": "code",
   "execution_count": 15,
   "metadata": {
    "collapsed": true
   },
   "outputs": [],
   "source": [
    "def eval_one_sess(sess, naive=False): \n",
    "    \"\"\"\n",
    "    sess -- list of item ids\n",
    "    naive -- use naive approach for defining order, we present items that were already selected\n",
    "             returns order 1 if predicted item is in past items\n",
    "             returns 1000 if predicted item is not in past items\n",
    "    \n",
    "    \"\"\"\n",
    "    ind = [dictionary.get(s) for s in sess]\n",
    "    ind = [i for i in ind if i != None]\n",
    "    if len(ind) == 0:\n",
    "        return []\n",
    "    else: \n",
    "        sess_orders = []\n",
    "        for j in range(1, len(ind)-1):\n",
    "            if naive: \n",
    "                sess_orders.append(1 if ind[j] in ind[0:j] else 1000)\n",
    "            else:\n",
    "                sess_orders.append(pred_order(ind[0:j])[ind[j]])\n",
    "#                 sess_orders.append(list(np.random.choice(2007,2007, replace=False))[ind[j]]) ## stupid approach \n",
    "\n",
    "    return sess_orders"
   ]
  },
  {
   "cell_type": "code",
   "execution_count": 20,
   "metadata": {},
   "outputs": [
    {
     "name": "stdout",
     "output_type": "stream",
     "text": [
      "Number of testing users:  500\n",
      "Number of testing users, where prediction available: 284\n",
      "Number of users that had more than half of their predictions on first page:  223\n",
      "Number of users that had more than 90% of their predictions on first page:  188\n"
     ]
    }
   ],
   "source": [
    "nai = False ## this switches between naive and our approach, the approach that mall uses can be switched on uncommenting one line in the function eval_one_sess \n",
    "evals_for_flat_users = [eval_one_sess(s, naive=nai) for s in wb_test_flat]\n",
    "print(\"Number of testing users: \", len(evals_for_flat_users))\n",
    "print(\"Number of testing users, where prediction available:\", np.sum(np.array([len(x) > 0 for x in evals_for_flat_users])))\n",
    "median_evals_for_flat_users = [np.median(e) for e in evals_for_flat_users if len(e) > 0]\n",
    "percentile_evals_for_flat_users = [np.percentile(e,90) for e in evals_for_flat_users if len(e) > 0]\n",
    "print(\"Number of users that had more than half of their predictions on first page: \", np.sum(np.array([e <= 48 for e in median_evals_for_flat_users])))\n",
    "print(\"Number of users that had more than 90% of their predictions on first page: \", np.sum(np.array([e <= 48 for e in percentile_evals_for_flat_users])))"
   ]
  },
  {
   "cell_type": "code",
   "execution_count": 18,
   "metadata": {},
   "outputs": [
    {
     "name": "stdout",
     "output_type": "stream",
     "text": [
      "Percent of users with good experience w2v:  0.777758009579\n"
     ]
    }
   ],
   "source": [
    "## Procento produktu co se zobrazi uzivateli na prvni strance \n",
    "percent_good_experience = np.mean([np.mean([e<48 for e in eval]) for eval in evals_for_flat_users if len(eval)>0])\n",
    "print(\"Percent of users with good experience w2v: \", percent_good_experience)"
   ]
  },
  {
   "cell_type": "code",
   "execution_count": 21,
   "metadata": {
    "collapsed": true
   },
   "outputs": [],
   "source": [
    "import matplotlib.pyplot as plt"
   ]
  },
  {
   "cell_type": "code",
   "execution_count": 23,
   "metadata": {},
   "outputs": [
    {
     "data": {
      "image/png": "[encoded data removed]",
      "text/plain": [
       "<matplotlib.figure.Figure at 0xdb31048>"
      ]
     },
     "metadata": {},
     "output_type": "display_data"
    }
   ],
   "source": [
    "plt.figure(figsize=(25,7))\n",
    "plt.hist(median_evals_for_flat_users, range=[0,100], alpha=0.8, bins=30)\n",
    "plt.title(\"Kolikaty byl hledany produkt v nasem doporuceni?\", size = 20)\n",
    "plt.xlabel(\"Poradi produktu v nasem doporuceni (median ze vsech uzivatelovych hledani)\", size= 15)\n",
    "plt.ylabel(\"Pocet uzivatelu\", size = 15)\n",
    "plt.vlines(x=48, ymin=0, ymax=40, linestyles=\"dotted\")\n",
    "plt.grid()\n",
    "plt.show()"
   ]
  },
  {
   "cell_type": "code",
   "execution_count": null,
   "metadata": {
    "collapsed": true
   },
   "outputs": [],
   "source": []
  },
  {
   "cell_type": "code",
   "execution_count": null,
   "metadata": {
    "collapsed": true
   },
   "outputs": [],
   "source": []
  },
  {
   "cell_type": "code",
   "execution_count": null,
   "metadata": {
    "collapsed": true
   },
   "outputs": [],
   "source": []
  },
  {
   "cell_type": "code",
   "execution_count": null,
   "metadata": {
    "collapsed": true
   },
   "outputs": [],
   "source": []
  },
  {
   "cell_type": "markdown",
   "metadata": {},
   "source": [
    "** The following are some additional evaluation metrics we used **"
   ]
  },
  {
   "cell_type": "markdown",
   "metadata": {},
   "source": [
    "** Eval new session **"
   ]
  },
  {
   "cell_type": "code",
   "execution_count": null,
   "metadata": {
    "collapsed": true
   },
   "outputs": [],
   "source": [
    "predictive_sess = [[dictionary.get(w) for ww in wb[:-1] for w in ww] for wb in wb_two_sess]\n",
    "target_sess = [[dictionary.get(x) for x in wb[-1]] for wb in wb_two_sess]"
   ]
  },
  {
   "cell_type": "code",
   "execution_count": null,
   "metadata": {
    "collapsed": true
   },
   "outputs": [],
   "source": [
    "target_sess"
   ]
  },
  {
   "cell_type": "code",
   "execution_count": null,
   "metadata": {
    "collapsed": true
   },
   "outputs": [],
   "source": [
    "next_sess_predictions = [list(pred_order(predictive_sess[i])[target_sess[i]]) for i in range(len(predictive_sess))]"
   ]
  },
  {
   "cell_type": "code",
   "execution_count": null,
   "metadata": {
    "collapsed": true
   },
   "outputs": [],
   "source": [
    "## naivni pristup \n",
    "next_sess_predictions = [ np.mean([1 if t in ps else 0 for t in trg]) for trg, ps in zip(target_sess, predictive_sess) ]"
   ]
  },
  {
   "cell_type": "code",
   "execution_count": null,
   "metadata": {
    "collapsed": true
   },
   "outputs": [],
   "source": [
    "np.mean(next_sess_predictions)"
   ]
  },
  {
   "cell_type": "code",
   "execution_count": null,
   "metadata": {
    "collapsed": true
   },
   "outputs": [],
   "source": [
    "np.mean([np.mean([x <= 48 for x in wb]) for wb in next_sess_predictions])"
   ]
  },
  {
   "cell_type": "code",
   "execution_count": null,
   "metadata": {
    "collapsed": true
   },
   "outputs": [],
   "source": []
  },
  {
   "cell_type": "markdown",
   "metadata": {},
   "source": [
    "** Eval EACH session **"
   ]
  },
  {
   "cell_type": "code",
   "execution_count": null,
   "metadata": {
    "collapsed": true
   },
   "outputs": [],
   "source": [
    "wb_two_sess = [wb for wb in word_bags_test if len(wb)>=2]\n",
    "wb_two_sess = [[w for w in word_bag if len(w)>1] for word_bag in wb_two_sess]\n",
    "wb_two_sess = [wb for wb in wb_two_sess if len(wb)>0]\n",
    "wb_two_flat = [w for wb in wb_two_sess for w in wb]\n",
    "wb_two_its = [[dictionary.get(w) for w in wb] for wb in wb_two_flat] \n",
    "wb_two_its = [[w for w in wb if w!=None] for wb in wb_two_its]"
   ]
  },
  {
   "cell_type": "code",
   "execution_count": null,
   "metadata": {
    "collapsed": true
   },
   "outputs": [],
   "source": [
    "def eval_one(ind, naive=False): \n",
    "    sess_orders = []\n",
    "    for j in range(1, len(ind)):\n",
    "        if naive: \n",
    "            sess_orders.append(1 if ind[j] in ind[0:j] else 1000)\n",
    "        else:\n",
    "            sess_orders.append(pred_order(ind[0:j])[ind[j]])\n",
    "    return sess_orders"
   ]
  },
  {
   "cell_type": "code",
   "execution_count": null,
   "metadata": {
    "collapsed": true
   },
   "outputs": [],
   "source": [
    "wb_two_ords = [eval_one(w) for w in wb_two_its]"
   ]
  },
  {
   "cell_type": "code",
   "execution_count": null,
   "metadata": {
    "collapsed": true
   },
   "outputs": [],
   "source": [
    "np.sum(np.array([np.median(w)<=48 for w in wb_two_ords])) / len(wb_two_ords)"
   ]
  },
  {
   "cell_type": "code",
   "execution_count": null,
   "metadata": {
    "collapsed": true
   },
   "outputs": [],
   "source": []
  },
  {
   "cell_type": "code",
   "execution_count": null,
   "metadata": {
    "collapsed": true
   },
   "outputs": [],
   "source": []
  }
 ],
 "metadata": {
  "kernelspec": {
   "display_name": "Python 3",
   "language": "python",
   "name": "python3"
  },
  "language_info": {
   "codemirror_mode": {
    "name": "ipython",
    "version": 3
   },
   "file_extension": ".py",
   "mimetype": "text/x-python",
   "name": "python",
   "nbconvert_exporter": "python",
   "pygments_lexer": "ipython3",
   "version": "3.5.3"
  },
  "toc": {
   "colors": {
    "hover_highlight": "#DAA520",
    "navigate_num": "#000000",
    "navigate_text": "#333333",
    "running_highlight": "#FF0000",
    "selected_highlight": "#FFD700",
    "sidebar_border": "#EEEEEE",
    "wrapper_background": "#FFFFFF"
   },
   "moveMenuLeft": true,
   "nav_menu": {
    "height": "12px",
    "width": "252px"
   },
   "navigate_menu": true,
   "number_sections": true,
   "sideBar": true,
   "threshold": 4,
   "toc_cell": false,
   "toc_section_display": "block",
   "toc_window_display": false,
   "widenNotebook": false
  }
 },
 "nbformat": 4,
 "nbformat_minor": 2
}
