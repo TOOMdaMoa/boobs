{
 "cells": [
  {
   "cell_type": "code",
   "execution_count": 1,
   "metadata": {},
   "outputs": [],
   "source": [
    "import xml.etree.ElementTree as ET"
   ]
  },
  {
   "cell_type": "code",
   "execution_count": 2,
   "metadata": {},
   "outputs": [],
   "source": [
    "tree = ET.parse('/Users/matej/Downloads/hackathon-visualsearch.xml')\n",
    "root = tree.getroot()"
   ]
  },
  {
   "cell_type": "code",
   "execution_count": 3,
   "metadata": {},
   "outputs": [
    {
     "data": {
      "text/plain": [
       "'SHOP'"
      ]
     },
     "execution_count": 3,
     "metadata": {},
     "output_type": "execute_result"
    }
   ],
   "source": [
    "root.tag"
   ]
  },
  {
   "cell_type": "code",
   "execution_count": 4,
   "metadata": {},
   "outputs": [
    {
     "data": {
      "text/plain": [
       "48647"
      ]
     },
     "execution_count": 4,
     "metadata": {},
     "output_type": "execute_result"
    }
   ],
   "source": [
    "len(root)"
   ]
  },
  {
   "cell_type": "code",
   "execution_count": 5,
   "metadata": {},
   "outputs": [
    {
     "data": {
      "text/plain": [
       "'1050264'"
      ]
     },
     "execution_count": 5,
     "metadata": {},
     "output_type": "execute_result"
    }
   ],
   "source": [
    "root[0].find(\"ITEM_ID\").text"
   ]
  },
  {
   "cell_type": "code",
   "execution_count": 6,
   "metadata": {},
   "outputs": [],
   "source": [
    "def parseItem(item):\n",
    "    id = item.find(\"ITEM_ID\").text\n",
    "    url = item.find(\"URL\").text\n",
    "    img = item.find(\"MEDIA\").find(\"IMGURL\")\n",
    "    if not img is None:\n",
    "        img = img.text\n",
    "    else:\n",
    "        img = \"\"\n",
    "    return {\"id\": id, \"url\": url, \"img\": img}\n",
    "\n",
    "items = [parseItem(item) for item in root]\n",
    "    "
   ]
  },
  {
   "cell_type": "code",
   "execution_count": 7,
   "metadata": {},
   "outputs": [],
   "source": [
    "filtered = [f for f in items if \"/obuv/\" in f[\"url\"]]"
   ]
  },
  {
   "cell_type": "code",
   "execution_count": 8,
   "metadata": {},
   "outputs": [
    {
     "data": {
      "text/plain": [
       "8153"
      ]
     },
     "execution_count": 8,
     "metadata": {},
     "output_type": "execute_result"
    }
   ],
   "source": [
    "len(filtered)"
   ]
  },
  {
   "cell_type": "code",
   "execution_count": 9,
   "metadata": {},
   "outputs": [],
   "source": [
    "import psycopg2, psycopg2.extras\n",
    "\n",
    "try:\n",
    "    conn = psycopg2.connect(\"dbname='compose' user='admin' host='sl-us-south-1-portal.14.dblayer.com' password='YKNEUFLDTRFNUTRU' port=29203\")\n",
    "except:\n",
    "    print \"I am unable to connect to the database\"\n",
    "    \n",
    "cur = conn.cursor()\n",
    "#cur.executemany(\"\"\"INSERT INTO product(id,url,img) VALUES (%(id)s, %(url)s, %(img)s)\"\"\", items)\n",
    "psycopg2.extras.execute_batch(cur, \n",
    "  \"\"\"INSERT INTO product2(id,url,img) VALUES (%(id)s, %(url)s, %(img)s)\"\"\", items, page_size=100)\n",
    "conn.commit()\n",
    "conn.close()"
   ]
  },
  {
   "cell_type": "code",
   "execution_count": null,
   "metadata": {
    "collapsed": true
   },
   "outputs": [],
   "source": []
  }
 ],
 "metadata": {
  "anaconda-cloud": {},
  "kernelspec": {
   "display_name": "Python 3",
   "language": "python",
   "name": "python3"
  },
  "language_info": {
   "codemirror_mode": {
    "name": "ipython",
    "version": 3
   },
   "file_extension": ".py",
   "mimetype": "text/x-python",
   "name": "python",
   "nbconvert_exporter": "python",
   "pygments_lexer": "ipython3",
   "version": "3.6.5"
  }
 },
 "nbformat": 4,
 "nbformat_minor": 1
}
