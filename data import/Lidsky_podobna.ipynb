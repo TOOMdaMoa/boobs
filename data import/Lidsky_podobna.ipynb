{
 "cells": [
  {
   "cell_type": "code",
   "execution_count": 2,
   "metadata": {
    "collapsed": true
   },
   "outputs": [],
   "source": [
    "import pandas as pd"
   ]
  },
  {
   "cell_type": "code",
   "execution_count": 3,
   "metadata": {},
   "outputs": [],
   "source": [
    "pd.options.display.max_rows=999\n",
    "df=pd.read_pickle('data_frame.pkl')\n",
    "df['date']=pd.to_datetime(df['date'])\n",
    "n=df.shape[0]"
   ]
  },
  {
   "cell_type": "code",
   "execution_count": 9,
   "metadata": {},
   "outputs": [
    {
     "data": {
      "text/plain": [
       "Timestamp('2017-11-15 04:57:14.392000')"
      ]
     },
     "execution_count": 9,
     "metadata": {},
     "output_type": "execute_result"
    }
   ],
   "source": [
    "df.loc[0]['date']"
   ]
  },
  {
   "cell_type": "code",
   "execution_count": 36,
   "metadata": {
    "collapsed": true
   },
   "outputs": [],
   "source": [
    "def muz(bota):\n",
    "    deter=bota['variant_data_params_DETERMINATION']\n",
    "    pro=bota['variant_data_params_MEN_WOMEN']\n",
    "    return deter in ['MEN`S','UNISEX','MENS AND UNISEX','UNIVERSAL'] or bota['variant_data_params_MENS_SHOES']=='YES' or pro in ['FOR MEN', 'UNISEX']\n",
    "def zena(bota):\n",
    "    deter=bota['variant_data_params_DETERMINATION']\n",
    "    pro=bota['variant_data_params_MEN_WOMEN']\n",
    "    return deter in ['WOMEN`S','UNISEX','FOR LADIES','UNIVERSAL', 'WOMEN`S/CHILD`S'] or bota['variant_data_params_WOMENS_SHOES']=='YES' or pro in ['FOR WOMEN', 'UNISEX']\n",
    "def holka(bota):\n",
    "    pro=bota['variant_data_params_MEN_WOMEN']\n",
    "    return bota['variant_data_params_GIRLS_SHOES']=='YES' or pro in ['FOR GIRLS']\n",
    "def kluk(bota):\n",
    "    pro=bota['variant_data_params_MEN_WOMEN']\n",
    "    return bota['variant_data_params_BOYS_SHOES']=='YES' or pro in ['FOR BOYS']\n",
    "def pohlavi(bota):\n",
    "    return [muz(bota),zena(bota),kluk(bota),holka(bota)]"
   ]
  },
  {
   "cell_type": "code",
   "execution_count": 46,
   "metadata": {
    "collapsed": true
   },
   "outputs": [],
   "source": [
    "def ucel(bota):\n",
    "    return bota['variant_data_params_DETERMINATION_OF_SHOES']"
   ]
  },
  {
   "cell_type": "code",
   "execution_count": 52,
   "metadata": {
    "collapsed": true
   },
   "outputs": [],
   "source": [
    "def sport(bota):\n",
    "    runner=bota['variant_data_params_RUNNER']\n",
    "    typof=bota['variant_data_params_TYPE_OF_SHOES']\n",
    "    return runner in ['RECREATION', 'SPORTING', 'RACING'] or typof in [ 'RUNNING SHOES', 'HALL SHOES','FITNESS SHOES', 'SPORTING', 'TENNIS SHOES']\n",
    "def zima(bota):\n",
    "    typof=bota['variant_data_params_TYPE_OF_SHOES']\n",
    "    return typof in [ 'WINTER BOOTS', 'ANKLE BOOTS', 'SNOWBOOTS', 'ANKLE WINTER', 'FELT BOOTS', 'BOOTS']\n",
    "def trek(bota):\n",
    "    typof=bota['variant_data_params_TYPE_OF_SHOES']\n",
    "    return typof in [ 'TREKING SHOES', 'BACKPACKING BOOTS', 'LOW TOURISTIC']\n",
    "def leto(bota):\n",
    "    typof=bota['variant_data_params_TYPE_OF_SHOES']\n",
    "    return typof in ['CROCS', 'SANDALS', 'FLIP-FLOPS', 'ESPADRILLE']\n",
    "def kazdoden(bota):\n",
    "    typof=bota['variant_data_params_TYPE_OF_SHOES']\n",
    "    return typof in ['SPORT SHOES', 'SHOES', 'MOCCASINS']\n",
    "def lodicky(bota):\n",
    "    typof=bota['variant_data_params_TYPE_OF_SHOES']\n",
    "    return typof in ['HEELS']\n",
    "def gumaky(bota):\n",
    "    typof=bota['variant_data_params_TYPE_OF_SHOES']\n",
    "    return typof in ['GUM BOOT']\n",
    "def pantofle(bota):\n",
    "    typof=bota['variant_data_params_TYPE_OF_SHOES']\n",
    "    return typof in ['SLIPPERS', 'HOME']\n",
    "def baleriny(bota):\n",
    "    typof=bota['variant_data_params_TYPE_OF_SHOES']\n",
    "    return typof in ['BALLERINAS']\n",
    "def typ(bota):\n",
    "    return [sport(bota),zima(bota),trek(bota), leto(bota), kazdoden(bota), lodicky(bota), gumaky(bota), pantofle(bota), baleriny(bota)]\n"
   ]
  },
  {
   "cell_type": "code",
   "execution_count": 57,
   "metadata": {},
   "outputs": [],
   "source": [
    "def podobne(bota1,bota2):\n",
    "    p1=pohlavi(bota1)\n",
    "    p2=pohlavi(bota2)\n",
    "    podobne=False\n",
    "    for i in range(0,len(p1)):\n",
    "        if(p1[i] and p2[i]):\n",
    "            podobne = True\n",
    "            break\n",
    "    if(not podobne or ucel(bota1)!=ucel(bota2)):\n",
    "        return False\n",
    "    podobne=False\n",
    "    p1=typ(bota1)\n",
    "    p2=typ(bota2)\n",
    "    for i in range(0,len(p1)):\n",
    "        if(p1[i] and p2[i]):\n",
    "            podobne = True\n",
    "            break\n",
    "    return podobne"
   ]
  },
  {
   "cell_type": "code",
   "execution_count": 75,
   "metadata": {},
   "outputs": [
    {
     "data": {
      "text/plain": [
       "True"
      ]
     },
     "execution_count": 75,
     "metadata": {},
     "output_type": "execute_result"
    }
   ],
   "source": [
    "podobne(df.loc[45],df.loc[37])"
   ]
  },
  {
   "cell_type": "code",
   "execution_count": 72,
   "metadata": {},
   "outputs": [
    {
     "data": {
      "text/plain": [
       "[True, False, False, False]"
      ]
     },
     "execution_count": 72,
     "metadata": {},
     "output_type": "execute_result"
    }
   ],
   "source": [
    "pohlavi(df.loc[48])"
   ]
  },
  {
   "cell_type": "code",
   "execution_count": 74,
   "metadata": {},
   "outputs": [
    {
     "data": {
      "text/plain": [
       "'SPORT'"
      ]
     },
     "execution_count": 74,
     "metadata": {},
     "output_type": "execute_result"
    }
   ],
   "source": [
    "ucel(df.loc[48])"
   ]
  },
  {
   "cell_type": "code",
   "execution_count": null,
   "metadata": {
    "collapsed": true
   },
   "outputs": [],
   "source": []
  }
 ],
 "metadata": {
  "kernelspec": {
   "display_name": "Python 3",
   "language": "python",
   "name": "python3"
  },
  "language_info": {
   "codemirror_mode": {
    "name": "ipython",
    "version": 3
   },
   "file_extension": ".py",
   "mimetype": "text/x-python",
   "name": "python",
   "nbconvert_exporter": "python",
   "pygments_lexer": "ipython3",
   "version": "3.6.3"
  }
 },
 "nbformat": 4,
 "nbformat_minor": 2
}
