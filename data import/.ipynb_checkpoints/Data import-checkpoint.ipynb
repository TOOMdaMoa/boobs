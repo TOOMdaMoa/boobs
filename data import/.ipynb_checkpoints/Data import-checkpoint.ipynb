{
 "cells": [
  {
   "cell_type": "markdown",
   "metadata": {},
   "source": [
    "# Data import"
   ]
  },
  {
   "cell_type": "code",
   "execution_count": 1,
   "metadata": {},
   "outputs": [],
   "source": [
    "## Import packages we will use \n",
    "import json\n",
    "import pprint \n",
    "import numpy as np\n",
    "import pandas as pd\n",
    "import matplotlib.pyplot as plt\n",
    "import collections \n",
    "import tensorflow as tf\n",
    "from sklearn.manifold import TSNE\n",
    "\n",
    "import json\n",
    "import yaml  # https://pypi.python.org/pypi/PyYAML\n",
    "from boltons.iterutils import remap  # https://pypi.python.org/pypi/boltons\n",
    "\n",
    "#http://sedimental.org/remap.html#"
   ]
  },
  {
   "cell_type": "code",
   "execution_count": null,
   "metadata": {},
   "outputs": [],
   "source": []
  },
  {
   "cell_type": "code",
   "execution_count": 5,
   "metadata": {},
   "outputs": [
    {
     "data": {
      "text/plain": [
       "{'brand': {'brand_id': 'NEWBALANCE', 'title': {'C': 'New Balance'}},\n",
       " 'brief_plain': {'C': '\\nNew Balance MT910GX2 je pánská běžecká obuv vhodná pro celoroční nošení. Vyvážené tlumení zajišťuje maximální komfort při pohybu. Doplňkem je membrána GORE-TEX odpuzující vodu.\\n'},\n",
       " 'date': '2017-11-15T12:01:09.205Z',\n",
       " 'product_id': '971294',\n",
       " 'product_type': {'id': 'NM006', 'title': {'C': 'Obuv'}},\n",
       " 'title_full': {'C': 'New Balance MT910GX2 7,5 UK (41,5 EU) - II. jakost'},\n",
       " 'user_id': '204436daaae0b036ed980b755bdf2535',\n",
       " 'variant_data': [{'availability': {'CZ': {'clearance_outlets': [0, 0],\n",
       "     'external_availability': 0,\n",
       "     'external_term_days': 999,\n",
       "     'is_available': True,\n",
       "     'numeric': 5,\n",
       "     'our_availability': 1,\n",
       "     'outlets': {'1': 0,\n",
       "      '2': 0,\n",
       "      '3': 0,\n",
       "      '4': 0,\n",
       "      '5': 0,\n",
       "      '6': 0,\n",
       "      '7': 0,\n",
       "      '8': 0,\n",
       "      '9': 0},\n",
       "     'status': 'A2',\n",
       "     'supplier_availability': 0,\n",
       "     'supplier_term_days': 999}},\n",
       "   'labels': {'CZ10MA': [{'label_id': 'BAZ'}, {'label_id': 'BAZ4'}]},\n",
       "   'params': [],\n",
       "   'price': {'CZ1000': {'currency': 'CZK',\n",
       "     'current_price': '1664',\n",
       "     'price': '2508',\n",
       "     'promotion_amount': 10,\n",
       "     'promotion_end': '20171231235959',\n",
       "     'promotion_price': '1664',\n",
       "     'promotion_start': '20171115000000',\n",
       "     'rrp': '3399',\n",
       "     'vat_rate': '21'}},\n",
       "   'title': {'C': 'MT910GX2 7,5 UK (41,5 EU) - II. jakost'}}],\n",
       " 'variant_id': '971294'}"
      ]
     },
     "execution_count": 5,
     "metadata": {},
     "output_type": "execute_result"
    }
   ],
   "source": [
    "line"
   ]
  },
  {
   "cell_type": "code",
   "execution_count": 14,
   "metadata": {},
   "outputs": [
    {
     "data": {
      "text/plain": [
       "513"
      ]
     },
     "execution_count": 14,
     "metadata": {},
     "output_type": "execute_result"
    }
   ],
   "source": [
    "i"
   ]
  },
  {
   "cell_type": "code",
   "execution_count": 11,
   "metadata": {
    "scrolled": false
   },
   "outputs": [
    {
     "data": {
      "text/plain": [
       "20"
      ]
     },
     "execution_count": 11,
     "metadata": {},
     "output_type": "execute_result"
    }
   ],
   "source": [
    "len(line['variant_data'])"
   ]
  },
  {
   "cell_type": "code",
   "execution_count": 17,
   "metadata": {
    "scrolled": false
   },
   "outputs": [
    {
     "name": "stdout",
     "output_type": "stream",
     "text": [
      "10000\n",
      "20000\n",
      "30000\n",
      "40000\n"
     ]
    }
   ],
   "source": [
    "data = []\n",
    "i=0\n",
    "with open('../../products.json','r') as f:\n",
    "    for line in f:\n",
    "        i=i+1\n",
    "        if (i%10000==0):\n",
    "            print(i)\n",
    "        line = json.loads(line)\n",
    "        variant_id = line['variant_id'].replace(line['product_id'],\"\")\n",
    "        if variant_id != '':\n",
    "            index = int(variant_id)-1\n",
    "            varianty = line['variant_data']\n",
    "            if len(varianty)>index:\n",
    "                line['variant_data'] = line['variant_data'][index]\n",
    "                line['index_out_of_range'] = False\n",
    "            else:\n",
    "                line['variant_data'] = line['variant_data'][-1]\n",
    "                line['index_out_of_range'] = True\n",
    "        data.append(line)"
   ]
  },
  {
   "cell_type": "code",
   "execution_count": 18,
   "metadata": {},
   "outputs": [],
   "source": [
    "def visit(path, key, value):\n",
    "    if key == 'date':\n",
    "        return key, pd.to_datetime(value)\n",
    "    return key, value\n",
    "data = remap(data, visit=visit)"
   ]
  },
  {
   "cell_type": "code",
   "execution_count": 19,
   "metadata": {},
   "outputs": [],
   "source": [
    "def visit(path, key, value):\n",
    "    if key == 'params':\n",
    "        li=[]\n",
    "        for param in value:\n",
    "            l = list(param['values'].values())\n",
    "            if not isinstance(l[0], str):\n",
    "                l = [item for sublist in l for item in sublist]\n",
    "            l = li.append((param['id'],l[0]))\n",
    "        return key, dict(li)\n",
    "    return key, value\n",
    "data = remap(data, visit=visit)"
   ]
  },
  {
   "cell_type": "markdown",
   "metadata": {},
   "source": [
    "Co to je promotion amount nevim je to neco jako sleva, je to u kazdyho, takze to muzeme brat jako indikator, ze je neco zlevneny\n",
    "\n",
    "jsou nektery params pro kazdou variantu stejny (treba type of shoes?) budeme muset prozkoumat, ktery veci jsou stejny napric vsema variantama.\n",
    "\n",
    "Nevim zatim jak presne funguje all year/season field, takze to tam zatim neni.. asi to bude kombinace toho jestli jsou summer nebo ne a toho co je tam o tom season type..\n",
    "\n",
    "Podobne nevim jak poznat pro koho jsou ty boty obecne, key determination, kde se prave pise mens nebo kids nekde chybi, takze to bude taky nejaky slozitejsi.. muzu to vykoukavat z dat, ale pokud nam to reknou bude to samozrejme rychlejsi.."
   ]
  },
  {
   "cell_type": "markdown",
   "metadata": {},
   "source": [
    "Pak se koukam na to ktery keys v elems se vyskytujou vsude. Jsou to jen tri:"
   ]
  },
  {
   "cell_type": "code",
   "execution_count": 21,
   "metadata": {},
   "outputs": [
    {
     "data": {
      "text/plain": [
       "371"
      ]
     },
     "execution_count": 21,
     "metadata": {},
     "output_type": "execute_result"
    }
   ],
   "source": [
    "len(l)"
   ]
  },
  {
   "cell_type": "code",
   "execution_count": 23,
   "metadata": {},
   "outputs": [
    {
     "data": {
      "text/plain": [
       "{'brand': {'brand_id': 'NEWBALANCE', 'title': {'C': 'New Balance'}},\n",
       " 'brief_plain': {'C': '\\nNew Balance MT910GX2 je pánská běžecká obuv vhodná pro celoroční nošení. Vyvážené tlumení zajišťuje maximální komfort při pohybu. Doplňkem je membrána GORE-TEX odpuzující vodu.\\n'},\n",
       " 'date': Timestamp('2017-11-15 12:01:09.205000'),\n",
       " 'product_id': '971294',\n",
       " 'product_type': {'id': 'NM006', 'title': {'C': 'Obuv'}},\n",
       " 'title_full': {'C': 'New Balance MT910GX2 7,5 UK (41,5 EU) - II. jakost'},\n",
       " 'user_id': '204436daaae0b036ed980b755bdf2535',\n",
       " 'variant_data': [{'availability': {'CZ': {'clearance_outlets': [0, 0],\n",
       "     'external_availability': 0,\n",
       "     'external_term_days': 999,\n",
       "     'is_available': True,\n",
       "     'numeric': 5,\n",
       "     'our_availability': 1,\n",
       "     'outlets': {'1': 0,\n",
       "      '2': 0,\n",
       "      '3': 0,\n",
       "      '4': 0,\n",
       "      '5': 0,\n",
       "      '6': 0,\n",
       "      '7': 0,\n",
       "      '8': 0,\n",
       "      '9': 0},\n",
       "     'status': 'A2',\n",
       "     'supplier_availability': 0,\n",
       "     'supplier_term_days': 999}},\n",
       "   'labels': {'CZ10MA': [{'label_id': 'BAZ'}, {'label_id': 'BAZ4'}]},\n",
       "   'params': {},\n",
       "   'price': {'CZ1000': {'currency': 'CZK',\n",
       "     'current_price': '1664',\n",
       "     'price': '2508',\n",
       "     'promotion_amount': 10,\n",
       "     'promotion_end': '20171231235959',\n",
       "     'promotion_price': '1664',\n",
       "     'promotion_start': '20171115000000',\n",
       "     'rrp': '3399',\n",
       "     'vat_rate': '21'}},\n",
       "   'title': {'C': 'MT910GX2 7,5 UK (41,5 EU) - II. jakost'}}],\n",
       " 'variant_id': '971294'}"
      ]
     },
     "execution_count": 23,
     "metadata": {},
     "output_type": "execute_result"
    }
   ],
   "source": [
    "line"
   ]
  },
  {
   "cell_type": "code",
   "execution_count": 20,
   "metadata": {},
   "outputs": [
    {
     "ename": "TypeError",
     "evalue": "list indices must be integers or slices, not str",
     "output_type": "error",
     "traceback": [
      "\u001b[0;31m---------------------------------------------------------------------------\u001b[0m",
      "\u001b[0;31mTypeError\u001b[0m                                 Traceback (most recent call last)",
      "\u001b[0;32m<ipython-input-20-cfe5c4d13c6c>\u001b[0m in \u001b[0;36m<module>\u001b[0;34m()\u001b[0m\n\u001b[1;32m      1\u001b[0m \u001b[0ml\u001b[0m\u001b[0;34m=\u001b[0m\u001b[0;34m[\u001b[0m\u001b[0;34m]\u001b[0m\u001b[0;34m\u001b[0m\u001b[0m\n\u001b[1;32m      2\u001b[0m \u001b[0;32mfor\u001b[0m \u001b[0mline\u001b[0m \u001b[0;32min\u001b[0m \u001b[0mdata\u001b[0m\u001b[0;34m:\u001b[0m\u001b[0;34m\u001b[0m\u001b[0m\n\u001b[0;32m----> 3\u001b[0;31m     \u001b[0ma\u001b[0m\u001b[0;34m=\u001b[0m\u001b[0mset\u001b[0m\u001b[0;34m(\u001b[0m\u001b[0mline\u001b[0m\u001b[0;34m[\u001b[0m\u001b[0;34m'variant_data'\u001b[0m\u001b[0;34m]\u001b[0m\u001b[0;34m[\u001b[0m\u001b[0;34m'params'\u001b[0m\u001b[0;34m]\u001b[0m\u001b[0;34m.\u001b[0m\u001b[0mkeys\u001b[0m\u001b[0;34m(\u001b[0m\u001b[0;34m)\u001b[0m\u001b[0;34m)\u001b[0m\u001b[0;34m\u001b[0m\u001b[0m\n\u001b[0m\u001b[1;32m      4\u001b[0m     \u001b[0ml\u001b[0m\u001b[0;34m.\u001b[0m\u001b[0mappend\u001b[0m\u001b[0;34m(\u001b[0m\u001b[0ma\u001b[0m\u001b[0;34m)\u001b[0m\u001b[0;34m\u001b[0m\u001b[0m\n\u001b[1;32m      5\u001b[0m \u001b[0mset\u001b[0m\u001b[0;34m.\u001b[0m\u001b[0mintersection\u001b[0m\u001b[0;34m(\u001b[0m\u001b[0;34m*\u001b[0m\u001b[0ml\u001b[0m\u001b[0;34m)\u001b[0m\u001b[0;34m\u001b[0m\u001b[0m\n",
      "\u001b[0;31mTypeError\u001b[0m: list indices must be integers or slices, not str"
     ]
    }
   ],
   "source": [
    "l=[]\n",
    "for line in data:\n",
    "    a=set(line['variant_data']['params'].keys())\n",
    "    l.append(a)\n",
    "set.intersection(*l)"
   ]
  },
  {
   "cell_type": "code",
   "execution_count": 37,
   "metadata": {},
   "outputs": [],
   "source": [
    "a=[1,2]\n",
    "b=[1]*len(a)\n",
    "c = dict(zip(a,b))"
   ]
  },
  {
   "cell_type": "code",
   "execution_count": 38,
   "metadata": {},
   "outputs": [],
   "source": [
    "l=[]\n",
    "for line in data:\n",
    "    a=list(line['variant_data']['params'].keys())\n",
    "    b = zip(a,[1]*len(a))\n",
    "    l.append(dict(b))\n",
    "df2 = pd.DataFrame(l)"
   ]
  },
  {
   "cell_type": "code",
   "execution_count": 11,
   "metadata": {},
   "outputs": [
    {
     "data": {
      "text/html": [
       "<div>\n",
       "<style>\n",
       "    .dataframe thead tr:only-child th {\n",
       "        text-align: right;\n",
       "    }\n",
       "\n",
       "    .dataframe thead th {\n",
       "        text-align: left;\n",
       "    }\n",
       "\n",
       "    .dataframe tbody tr th {\n",
       "        vertical-align: top;\n",
       "    }\n",
       "</style>\n",
       "<table border=\"1\" class=\"dataframe\">\n",
       "  <thead>\n",
       "    <tr style=\"text-align: right;\">\n",
       "      <th></th>\n",
       "      <th>AUTUMN_SHOES</th>\n",
       "      <th>BOYS_SHOES</th>\n",
       "      <th>COLLECTION_NM</th>\n",
       "      <th>COLOR</th>\n",
       "      <th>DETERMINATION</th>\n",
       "      <th>DETERMINATION_OF_SHOES</th>\n",
       "      <th>EXTENDED_SELECTION</th>\n",
       "      <th>FASHION</th>\n",
       "      <th>GIRLS_SHOES</th>\n",
       "      <th>HEEL</th>\n",
       "      <th>...</th>\n",
       "      <th>SIZE_EUR</th>\n",
       "      <th>SIZE_UK</th>\n",
       "      <th>SPORT</th>\n",
       "      <th>SPRING_SHOES</th>\n",
       "      <th>SUMMER_SHOES</th>\n",
       "      <th>TIE</th>\n",
       "      <th>TYPE_OF_SHOES</th>\n",
       "      <th>TYPE_OF_TOE</th>\n",
       "      <th>WINTER_SHOES</th>\n",
       "      <th>WOMENS_SHOES</th>\n",
       "    </tr>\n",
       "  </thead>\n",
       "  <tbody>\n",
       "    <tr>\n",
       "      <th>96</th>\n",
       "      <td>NaN</td>\n",
       "      <td>1.0</td>\n",
       "      <td>1.0</td>\n",
       "      <td>1</td>\n",
       "      <td>1.0</td>\n",
       "      <td>NaN</td>\n",
       "      <td>NaN</td>\n",
       "      <td>1.0</td>\n",
       "      <td>1.0</td>\n",
       "      <td>NaN</td>\n",
       "      <td>...</td>\n",
       "      <td>1</td>\n",
       "      <td>NaN</td>\n",
       "      <td>1.0</td>\n",
       "      <td>NaN</td>\n",
       "      <td>NaN</td>\n",
       "      <td>1.0</td>\n",
       "      <td>1</td>\n",
       "      <td>NaN</td>\n",
       "      <td>1.0</td>\n",
       "      <td>1.0</td>\n",
       "    </tr>\n",
       "  </tbody>\n",
       "</table>\n",
       "<p>1 rows × 27 columns</p>\n",
       "</div>"
      ],
      "text/plain": [
       "    AUTUMN_SHOES  BOYS_SHOES  COLLECTION_NM  COLOR  DETERMINATION  \\\n",
       "96           NaN         1.0            1.0      1            1.0   \n",
       "\n",
       "    DETERMINATION_OF_SHOES  EXTENDED_SELECTION  FASHION  GIRLS_SHOES  HEEL  \\\n",
       "96                     NaN                 NaN      1.0          1.0   NaN   \n",
       "\n",
       "        ...       SIZE_EUR  SIZE_UK  SPORT  SPRING_SHOES  SUMMER_SHOES  TIE  \\\n",
       "96      ...              1      NaN    1.0           NaN           NaN  1.0   \n",
       "\n",
       "    TYPE_OF_SHOES  TYPE_OF_TOE  WINTER_SHOES  WOMENS_SHOES  \n",
       "96              1          NaN           1.0           1.0  \n",
       "\n",
       "[1 rows x 27 columns]"
      ]
     },
     "execution_count": 11,
     "metadata": {},
     "output_type": "execute_result"
    }
   ],
   "source": [
    "df2.loc[lambda x: pd.isnull(x['DETERMINATION_OF_SHOES'])]"
   ]
  },
  {
   "cell_type": "code",
   "execution_count": 54,
   "metadata": {
    "scrolled": false
   },
   "outputs": [],
   "source": [
    "numeric_vector = []\n",
    "for line in data:\n",
    "    numeric_vector.append({\n",
    "        'user_id': line['user_id'],\n",
    "        'product_id': line['product_id'],\n",
    "        'variant_id': line['variant_id'],\n",
    "        'date': line['date'],\n",
    "        'brand': line['brand']['brand_id'],\n",
    "        'price': int(line['variant_data']['price']['CZ1000']['price']),\n",
    "        'promotion_amount': int(line['variant_data']['price']['CZ1000']['promotion_amount']),\n",
    "        'Shoe_size': line['variant_data']['params']['SIZE_EUR'],\n",
    "        'Type_of_shoes': line['variant_data']['params']['TYPE_OF_SHOES'],\n",
    "        'Color': line['variant_data']['params']['COLOR']\n",
    "    })\n",
    "df = pd.DataFrame(numeric_vector).reset_index().drop(\"index\",axis=1)"
   ]
  },
  {
   "cell_type": "code",
   "execution_count": 62,
   "metadata": {},
   "outputs": [
    {
     "data": {
      "text/plain": [
       "1067675    4\n",
       "1085963    3\n",
       "937412     3\n",
       "1073114    3\n",
       "935880     3\n",
       "1086571    3\n",
       "1074458    2\n",
       "935804     2\n",
       "1068432    2\n",
       "1079941    2\n",
       "Name: product_id, dtype: int64"
      ]
     },
     "execution_count": 62,
     "metadata": {},
     "output_type": "execute_result"
    }
   ],
   "source": [
    "df.product_id.value_counts()[0:10]"
   ]
  },
  {
   "cell_type": "code",
   "execution_count": 72,
   "metadata": {},
   "outputs": [],
   "source": [
    "a = list(df[df['product_id']=='1086571'].index)"
   ]
  },
  {
   "cell_type": "code",
   "execution_count": 73,
   "metadata": {
    "scrolled": false
   },
   "outputs": [],
   "source": [
    "b = pd.DataFrame(list( data[i]['variant_data']['params'] for i in a ))"
   ]
  },
  {
   "cell_type": "code",
   "execution_count": 74,
   "metadata": {},
   "outputs": [
    {
     "data": {
      "text/plain": [
       "AUTUMN_SHOES              1\n",
       "COLLECTION_NM             1\n",
       "COLOR                     1\n",
       "DETERMINATION             1\n",
       "DETERMINATION_OF_SHOES    1\n",
       "FASHION                   1\n",
       "HEEL                      1\n",
       "MEN_WOMEN                 1\n",
       "SEASON_OF_YEAR            1\n",
       "SHOES_HIGH                1\n",
       "SIZE_EUR                  2\n",
       "SPORT                     1\n",
       "SPRING_SHOES              1\n",
       "SUMMER_SHOES              1\n",
       "TIE                       1\n",
       "TYPE_OF_SHOES             1\n",
       "WINTER_SHOES              1\n",
       "WOMENS_SHOES              1\n",
       "dtype: int64"
      ]
     },
     "execution_count": 74,
     "metadata": {},
     "output_type": "execute_result"
    }
   ],
   "source": [
    "b.apply(lambda x: x.nunique(), axis=0)"
   ]
  },
  {
   "cell_type": "code",
   "execution_count": null,
   "metadata": {},
   "outputs": [],
   "source": []
  }
 ],
 "metadata": {
  "kernelspec": {
   "display_name": "Python 3",
   "language": "python",
   "name": "python3"
  },
  "language_info": {
   "codemirror_mode": {
    "name": "ipython",
    "version": 3
   },
   "file_extension": ".py",
   "mimetype": "text/x-python",
   "name": "python",
   "nbconvert_exporter": "python",
   "pygments_lexer": "ipython3",
   "version": "3.6.1"
  }
 },
 "nbformat": 4,
 "nbformat_minor": 2
}
