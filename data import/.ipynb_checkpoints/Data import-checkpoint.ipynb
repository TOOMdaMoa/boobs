{
 "cells": [
  {
   "cell_type": "markdown",
   "metadata": {},
   "source": [
    "# Data import"
   ]
  },
  {
   "cell_type": "code",
   "execution_count": 1,
   "metadata": {},
   "outputs": [],
   "source": [
    "## Import packages we will use \n",
    "import json\n",
    "import pprint \n",
    "import numpy as np\n",
    "import pandas as pd\n",
    "import matplotlib.pyplot as plt\n",
    "import collections \n",
    "import tensorflow as tf\n",
    "from sklearn.manifold import TSNE\n",
    "\n",
    "import json\n",
    "import yaml  # https://pypi.python.org/pypi/PyYAML\n",
    "from boltons.iterutils import remap  # https://pypi.python.org/pypi/boltons\n",
    "\n",
    "#http://sedimental.org/remap.html#"
   ]
  },
  {
   "cell_type": "code",
   "execution_count": 2,
   "metadata": {
    "scrolled": false
   },
   "outputs": [
    {
     "name": "stdout",
     "output_type": "stream",
     "text": [
      "10000\n",
      "20000\n",
      "30000\n",
      "40000\n"
     ]
    }
   ],
   "source": [
    "data = []\n",
    "i=0\n",
    "with open('products.json','r') as f:\n",
    "    for line in f:\n",
    "        i=i+1\n",
    "        if (i%10000==0):\n",
    "            print(i)\n",
    "        line = json.loads(line)\n",
    "        variant_id = line['variant_id'].replace(line['product_id'],\"\")\n",
    "        if variant_id != '':\n",
    "            line['index_missing'] = True\n",
    "            index = int(variant_id)-1\n",
    "            varianty = line['variant_data']\n",
    "            if len(varianty)>index:\n",
    "                line['variant_data'] = line['variant_data'][index]\n",
    "                line['index_out_of_range'] = False\n",
    "            else:\n",
    "                line['variant_data'] = line['variant_data'][-1]\n",
    "                line['index_out_of_range'] = True\n",
    "        else:\n",
    "            line['variant_data'] = line['variant_data'][0]\n",
    "            line['index_out_of_range'] = False\n",
    "            line['index_missing'] = True\n",
    "        data.append(line)"
   ]
  },
  {
   "cell_type": "code",
   "execution_count": null,
   "metadata": {},
   "outputs": [],
   "source": [
    "# def visit(path, key, value):\n",
    "#     if key == 'date':\n",
    "#         return key, pd.to_datetime(value)\n",
    "#     return key, value\n",
    "# data = remap(data, visit=visit)"
   ]
  },
  {
   "cell_type": "code",
   "execution_count": 3,
   "metadata": {},
   "outputs": [],
   "source": [
    "def visit(path, key, value):\n",
    "    if key == 'params':\n",
    "        li=[]\n",
    "        for param in value:\n",
    "            l = list(param['values'].values())\n",
    "            if not isinstance(l[0], str):\n",
    "                l = [item for sublist in l for item in sublist]\n",
    "            l = li.append((param['id'],l[0]))\n",
    "        return key, dict(li)\n",
    "    return key, value\n",
    "data2 = remap(data, visit=visit)"
   ]
  },
  {
   "cell_type": "markdown",
   "metadata": {},
   "source": [
    "Co to je promotion amount nevim je to neco jako sleva, je to u kazdyho, takze to muzeme brat jako indikator, ze je neco zlevneny\n",
    "\n",
    "jsou nektery params pro kazdou variantu stejny (treba type of shoes?) budeme muset prozkoumat, ktery veci jsou stejny napric vsema variantama.\n",
    "\n",
    "Nevim zatim jak presne funguje all year/season field, takze to tam zatim neni.. asi to bude kombinace toho jestli jsou summer nebo ne a toho co je tam o tom season type..\n",
    "\n",
    "Podobne nevim jak poznat pro koho jsou ty boty obecne, key determination, kde se prave pise mens nebo kids nekde chybi, takze to bude taky nejaky slozitejsi.. muzu to vykoukavat z dat, ale pokud nam to reknou bude to samozrejme rychlejsi.."
   ]
  },
  {
   "cell_type": "markdown",
   "metadata": {},
   "source": [
    "Pak se koukam na to ktery keys v elems se vyskytujou vsude. Jsou to jen tri:"
   ]
  },
  {
   "cell_type": "code",
   "execution_count": 21,
   "metadata": {},
   "outputs": [],
   "source": [
    "l=[]\n",
    "for line in data2:\n",
    "    parametry = line['variant_data']['params']\n",
    "    if parametry!=[]:\n",
    "        a=set(parametry)\n",
    "        b = zip(a,[1]*len(a))\n",
    "        l.append(dict(b))\n",
    "parameter_stats = pd.DataFrame(l)"
   ]
  },
  {
   "cell_type": "code",
   "execution_count": 22,
   "metadata": {},
   "outputs": [],
   "source": [
    "n=df2.shape[0]"
   ]
  },
  {
   "cell_type": "code",
   "execution_count": 23,
   "metadata": {},
   "outputs": [
    {
     "data": {
      "text/plain": [
       "COLOR                     0.997884\n",
       "SIZE_EUR                  0.983780\n",
       "TYPE_OF_SHOES             0.983119\n",
       "SEASON_OF_YEAR            0.977367\n",
       "DETERMINATION_OF_SHOES    0.973863\n",
       "DETERMINATION             0.969367\n",
       "MEN_WOMEN                 0.965070\n",
       "SPORT                     0.963747\n",
       "COLLECTION_NM             0.963549\n",
       "SHOES_HIGH                0.932586\n",
       "TIE                       0.879121\n",
       "FASHION                   0.872532\n",
       "SUMMER_SHOES              0.803773\n",
       "AUTUMN_SHOES              0.799321\n",
       "SPRING_SHOES              0.799189\n",
       "MENS_SHOES                0.790903\n",
       "WINTER_SHOES              0.761438\n",
       "MATERIAL                  0.752468\n",
       "WOMENS_SHOES              0.633022\n",
       "BOYS_SHOES                0.501477\n",
       "GIRLS_SHOES               0.499163\n",
       "TYPE_OF_TOE               0.487659\n",
       "HEEL                      0.447704\n",
       "MODEL_OF_YEAR             0.212844\n",
       "MEMBRANE                  0.204932\n",
       "SIZE_UK                   0.031162\n",
       "EXTENDED_SELECTION        0.023206\n",
       "SIZE                      0.018710\n",
       "TYPE_OF_BINDING           0.014104\n",
       "TYPE_USAGE                0.014104\n",
       "RUNNER                    0.014104\n",
       "WEIGHT_G                  0.003857\n",
       "dtype: float64"
      ]
     },
     "execution_count": 23,
     "metadata": {},
     "output_type": "execute_result"
    }
   ],
   "source": [
    "(parameter_stats.sum()/n).sort_values(ascending=False)"
   ]
  },
  {
   "cell_type": "code",
   "execution_count": 26,
   "metadata": {
    "scrolled": false
   },
   "outputs": [
    {
     "ename": "KeyError",
     "evalue": "'TYPE_OF_SHOES'",
     "output_type": "error",
     "traceback": [
      "\u001b[0;31m---------------------------------------------------------------------------\u001b[0m",
      "\u001b[0;31mKeyError\u001b[0m                                  Traceback (most recent call last)",
      "\u001b[0;32m<ipython-input-26-eb868c3debf1>\u001b[0m in \u001b[0;36m<module>\u001b[0;34m()\u001b[0m\n\u001b[1;32m     10\u001b[0m         \u001b[0;34m'promotion_amount'\u001b[0m\u001b[0;34m:\u001b[0m \u001b[0mint\u001b[0m\u001b[0;34m(\u001b[0m\u001b[0mline\u001b[0m\u001b[0;34m[\u001b[0m\u001b[0;34m'variant_data'\u001b[0m\u001b[0;34m]\u001b[0m\u001b[0;34m[\u001b[0m\u001b[0;34m'price'\u001b[0m\u001b[0;34m]\u001b[0m\u001b[0;34m[\u001b[0m\u001b[0;34m'CZ1000'\u001b[0m\u001b[0;34m]\u001b[0m\u001b[0;34m[\u001b[0m\u001b[0;34m'promotion_amount'\u001b[0m\u001b[0;34m]\u001b[0m\u001b[0;34m)\u001b[0m\u001b[0;34m,\u001b[0m\u001b[0;34m\u001b[0m\u001b[0m\n\u001b[1;32m     11\u001b[0m         \u001b[0;34m'Shoe_size'\u001b[0m\u001b[0;34m:\u001b[0m \u001b[0mline\u001b[0m\u001b[0;34m[\u001b[0m\u001b[0;34m'variant_data'\u001b[0m\u001b[0;34m]\u001b[0m\u001b[0;34m[\u001b[0m\u001b[0;34m'params'\u001b[0m\u001b[0;34m]\u001b[0m\u001b[0;34m[\u001b[0m\u001b[0;34m'SIZE_EUR'\u001b[0m\u001b[0;34m]\u001b[0m\u001b[0;34m,\u001b[0m\u001b[0;34m\u001b[0m\u001b[0m\n\u001b[0;32m---> 12\u001b[0;31m         \u001b[0;34m'Type_of_shoes'\u001b[0m\u001b[0;34m:\u001b[0m \u001b[0mline\u001b[0m\u001b[0;34m[\u001b[0m\u001b[0;34m'variant_data'\u001b[0m\u001b[0;34m]\u001b[0m\u001b[0;34m[\u001b[0m\u001b[0;34m'params'\u001b[0m\u001b[0;34m]\u001b[0m\u001b[0;34m[\u001b[0m\u001b[0;34m'TYPE_OF_SHOES'\u001b[0m\u001b[0;34m]\u001b[0m\u001b[0;34m,\u001b[0m\u001b[0;34m\u001b[0m\u001b[0m\n\u001b[0m\u001b[1;32m     13\u001b[0m         \u001b[0;34m'Color'\u001b[0m\u001b[0;34m:\u001b[0m \u001b[0mline\u001b[0m\u001b[0;34m[\u001b[0m\u001b[0;34m'variant_data'\u001b[0m\u001b[0;34m]\u001b[0m\u001b[0;34m[\u001b[0m\u001b[0;34m'params'\u001b[0m\u001b[0;34m]\u001b[0m\u001b[0;34m[\u001b[0m\u001b[0;34m'COLOR'\u001b[0m\u001b[0;34m]\u001b[0m\u001b[0;34m\u001b[0m\u001b[0m\n\u001b[1;32m     14\u001b[0m     })\n",
      "\u001b[0;31mKeyError\u001b[0m: 'TYPE_OF_SHOES'"
     ]
    }
   ],
   "source": [
    "numeric_vector = []\n",
    "for line in data2:\n",
    "    numeric_vector.append({\n",
    "        'user_id': line['user_id'],\n",
    "        'product_id': line['product_id'],\n",
    "        'variant_id': line['variant_id'],\n",
    "        'date': line['date'],\n",
    "        'brand': line['brand']['brand_id'],\n",
    "        'price': int(line['variant_data']['price']['CZ1000']['price']),\n",
    "        'promotion_amount': int(line['variant_data']['price']['CZ1000']['promotion_amount']),\n",
    "        'Shoe_size': line['variant_data']['params']['SIZE_EUR'],\n",
    "        'Type_of_shoes': line['variant_data']['params']['TYPE_OF_SHOES'],\n",
    "        'Color': line['variant_data']['params']['COLOR']\n",
    "    })\n",
    "df = pd.DataFrame(numeric_vector).reset_index().drop(\"index\",axis=1)"
   ]
  },
  {
   "cell_type": "code",
   "execution_count": null,
   "metadata": {},
   "outputs": [],
   "source": [
    "df.product_id.value_counts()[0:10]"
   ]
  },
  {
   "cell_type": "code",
   "execution_count": null,
   "metadata": {},
   "outputs": [],
   "source": [
    "a = list(df[df['product_id']=='1086571'].index)"
   ]
  },
  {
   "cell_type": "code",
   "execution_count": null,
   "metadata": {
    "scrolled": false
   },
   "outputs": [],
   "source": [
    "b = pd.DataFrame(list( data[i]['variant_data']['params'] for i in a ))"
   ]
  },
  {
   "cell_type": "code",
   "execution_count": null,
   "metadata": {},
   "outputs": [],
   "source": [
    "b.apply(lambda x: x.nunique(), axis=0)"
   ]
  },
  {
   "cell_type": "code",
   "execution_count": null,
   "metadata": {},
   "outputs": [],
   "source": []
  }
 ],
 "metadata": {
  "kernelspec": {
   "display_name": "Python 3",
   "language": "python",
   "name": "python3"
  },
  "language_info": {
   "codemirror_mode": {
    "name": "ipython",
    "version": 3
   },
   "file_extension": ".py",
   "mimetype": "text/x-python",
   "name": "python",
   "nbconvert_exporter": "python",
   "pygments_lexer": "ipython3",
   "version": "3.6.1"
  }
 },
 "nbformat": 4,
 "nbformat_minor": 2
}
