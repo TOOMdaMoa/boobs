{
 "cells": [
  {
   "cell_type": "markdown",
   "metadata": {
    "hideCode": false,
    "hidePrompt": false
   },
   "source": [
    "# Data import"
   ]
  },
  {
   "cell_type": "code",
   "execution_count": 1,
   "metadata": {
    "hideCode": false,
    "hidePrompt": false
   },
   "outputs": [],
   "source": [
    "## Import packages we will use \n",
    "import json\n",
    "import pprint \n",
    "import numpy as np\n",
    "import pandas as pd\n",
    "import matplotlib.pyplot as plt\n",
    "import collections \n",
    "import tensorflow as tf\n",
    "from sklearn.manifold import TSNE\n",
    "\n",
    "import json\n",
    "import yaml  # https://pypi.python.org/pypi/PyYAML\n",
    "from boltons.iterutils import remap  # https://pypi.python.org/pypi/boltons\n",
    "\n",
    "#http://sedimental.org/remap.html#"
   ]
  },
  {
   "cell_type": "code",
   "execution_count": 2,
   "metadata": {
    "hideCode": false,
    "hidePrompt": false,
    "scrolled": false
   },
   "outputs": [],
   "source": [
    "# data = []\n",
    "# i=0\n",
    "# with open('products.json','r') as f:\n",
    "#     for line in f:\n",
    "#         i=i+1\n",
    "#         if (i%10000==0):\n",
    "#             print(i)\n",
    "#         line = json.loads(line)\n",
    "#         variant_id = line['variant_id'].replace(line['product_id'],\"\")\n",
    "#         if variant_id != '':\n",
    "#             line['index_missing'] = True\n",
    "#             index = int(variant_id)-1\n",
    "#             varianty = line['variant_data']\n",
    "#             if len(varianty)>index:\n",
    "#                 line['variant_data'] = line['variant_data'][index]\n",
    "#                 line['index_out_of_range'] = False\n",
    "#             else:\n",
    "#                 line['variant_data'] = line['variant_data'][-1]\n",
    "#                 line['index_out_of_range'] = True\n",
    "#         else:\n",
    "#             line['variant_data'] = line['variant_data'][0]\n",
    "#             line['index_out_of_range'] = False\n",
    "#             line['index_missing'] = True\n",
    "#         data.append(line)"
   ]
  },
  {
   "cell_type": "code",
   "execution_count": 3,
   "metadata": {
    "hideCode": false,
    "hidePrompt": false
   },
   "outputs": [],
   "source": [
    "# def visit(path, key, value):\n",
    "#     if key == 'date':\n",
    "#         return key, pd.to_datetime(value)\n",
    "#     return key, value\n",
    "# data = remap(data, visit=visit)"
   ]
  },
  {
   "cell_type": "code",
   "execution_count": 4,
   "metadata": {
    "hideCode": false,
    "hidePrompt": false
   },
   "outputs": [],
   "source": [
    "# def flatten_json(y):\n",
    "#     out = {}\n",
    "\n",
    "#     def flatten(x, name=''):\n",
    "#         if type(x) is dict:\n",
    "#             for a in x:\n",
    "#                 flatten(x[a], name + a + '_')\n",
    "#         elif type(x) is list:\n",
    "#             i = 0\n",
    "#             for a in x:\n",
    "#                 flatten(a, name + str(i) + '_')\n",
    "#                 i += 1\n",
    "#         else:\n",
    "#             out[name[:-1]] = x\n",
    "\n",
    "#     flatten(y)\n",
    "#     return out"
   ]
  },
  {
   "cell_type": "code",
   "execution_count": 5,
   "metadata": {
    "hideCode": false,
    "hidePrompt": false
   },
   "outputs": [],
   "source": [
    "# def visit(path, key, value):\n",
    "#     if key == 'params':\n",
    "#         li=[]\n",
    "#         for param in value:\n",
    "#             l = list(param['values'].values())\n",
    "#             if not isinstance(l[0], str):\n",
    "#                 l = [item for sublist in l for item in sublist]\n",
    "#             l = li.append((param['id'],l[0]))\n",
    "#         return key, dict(li)\n",
    "#     return key, value\n",
    "# data2 = remap(data, visit=visit)"
   ]
  },
  {
   "cell_type": "code",
   "execution_count": 6,
   "metadata": {
    "hideCode": false,
    "hidePrompt": false
   },
   "outputs": [],
   "source": [
    "# data3=[]\n",
    "# for line in data2:\n",
    "#     line=flatten_json(line)\n",
    "#     data3.append(line)"
   ]
  },
  {
   "cell_type": "code",
   "execution_count": 7,
   "metadata": {
    "hideCode": false,
    "hidePrompt": false
   },
   "outputs": [],
   "source": [
    "# df = pd.DataFrame(data3)"
   ]
  },
  {
   "cell_type": "code",
   "execution_count": 8,
   "metadata": {
    "hideCode": false,
    "hidePrompt": false
   },
   "outputs": [],
   "source": [
    "# co nema vubec nic?\n",
    "# i=0\n",
    "# for line in data2:\n",
    "#     if line['variant_data']['params']=={}:\n",
    "#         i=i+1\n",
    "# print(i)"
   ]
  },
  {
   "cell_type": "code",
   "execution_count": 9,
   "metadata": {
    "hideCode": false,
    "hidePrompt": false
   },
   "outputs": [],
   "source": [
    "# df.to_pickle('data_frame.pkl')"
   ]
  },
  {
   "cell_type": "markdown",
   "metadata": {
    "hideCode": false,
    "hidePrompt": false
   },
   "source": [
    "## Data import zparsovanych dat"
   ]
  },
  {
   "cell_type": "code",
   "execution_count": 10,
   "metadata": {
    "hideCode": false,
    "hidePrompt": false
   },
   "outputs": [],
   "source": [
    "pd.options.display.max_rows=999\n",
    "df=pd.read_pickle('data_frame.pkl')\n",
    "df['date']=pd.to_datetime(df['date'])\n",
    "n=df.shape[0]"
   ]
  },
  {
   "cell_type": "markdown",
   "metadata": {
    "hideCode": false,
    "hidePrompt": false
   },
   "source": [
    "## Sloupce podle vyskytu"
   ]
  },
  {
   "cell_type": "code",
   "execution_count": 12,
   "metadata": {
    "hideCode": false,
    "hidePrompt": false
   },
   "outputs": [],
   "source": [
    "#df.count().sort_values(ascending=False)/n"
   ]
  },
  {
   "cell_type": "code",
   "execution_count": 131,
   "metadata": {
    "hideCode": false,
    "hidePrompt": false
   },
   "outputs": [],
   "source": [
    "cols= ['brand_brand_id', 'date',\n",
    "       'index_missing', 'index_out_of_range', 'product_id', 'product_type_id',\n",
    "       'product_type_title_C', 'title_full_C', 'user_id',\n",
    "       'variant_data_params_AUTUMN_SHOES', 'variant_data_params_BOYS_SHOES',\n",
    "       'variant_data_params_COLLECTION_NM', 'variant_data_params_COLOR',\n",
    "       'variant_data_params_DETERMINATION',\n",
    "       'variant_data_params_DETERMINATION_OF_SHOES',\n",
    "       'variant_data_params_EXTENDED_SELECTION', 'variant_data_params_FASHION',\n",
    "       'variant_data_params_GIRLS_SHOES', 'variant_data_params_HEEL',\n",
    "       'variant_data_params_MATERIAL', 'variant_data_params_MEMBRANE',\n",
    "       'variant_data_params_MENS_SHOES', 'variant_data_params_MEN_WOMEN',\n",
    "       'variant_data_params_MODEL_OF_YEAR', 'variant_data_params_RUNNER',\n",
    "       'variant_data_params_SEASON_OF_YEAR', 'variant_data_params_SHOES_HIGH',\n",
    "       'variant_data_params_SIZE', 'variant_data_params_SIZE_EUR',\n",
    "       'variant_data_params_SIZE_UK', 'variant_data_params_SPORT',\n",
    "       'variant_data_params_SPRING_SHOES', 'variant_data_params_SUMMER_SHOES',\n",
    "       'variant_data_params_TIE', 'variant_data_params_TYPE_OF_BINDING',\n",
    "       'variant_data_params_TYPE_OF_SHOES', 'variant_data_params_TYPE_OF_TOE',\n",
    "       'variant_data_params_TYPE_USAGE', 'variant_data_params_WEIGHT_G',\n",
    "       'variant_data_params_WINTER_SHOES', 'variant_data_params_WOMENS_SHOES',\n",
    "       'variant_data_price_CZ1000_current_price',\n",
    "       'variant_data_price_CZ1000_price',\n",
    "       'variant_data_price_CZ1000_promotion_price',\n",
    "       'variant_data_price_CZ1000_rrp',\n",
    "       'variant_id']\n",
    "df=df.loc[:,cols]\n",
    "nice_users = ((df.groupby(['user_id'])['date'].count())>3) &((dff.groupby(['user_id'])['date'].count())<100)\n",
    "\n",
    "cols_to_use = ['date',\n",
    "               'variant_data_params_SIZE_EUR',\n",
    "               'product_id',\n",
    "               'user_id',\n",
    "               'title_full_C',\n",
    "               'variant_id',\n",
    "               'variant_data_params_COLOR'\n",
    "              ]\n",
    "df = df[cols_to_use].copy()"
   ]
  },
  {
   "cell_type": "markdown",
   "metadata": {},
   "source": [
    "## Window funkce na identifikování návštěv"
   ]
  },
  {
   "cell_type": "markdown",
   "metadata": {},
   "source": [
    "jak rozseknout dvě návštevy je nastavitelný parametr, momentálně to dávám jako pevné číslo, ale šlo by to i líp"
   ]
  },
  {
   "cell_type": "code",
   "execution_count": 143,
   "metadata": {},
   "outputs": [],
   "source": [
    "def ff(x):\n",
    "    x=x.sort_values('date')\n",
    "    x['date']=pd.to_numeric(x['date'])\n",
    "    x['time_diff']=pd.to_timedelta(x['date'].rolling(window=2,center=False).apply(lambda x: x[1] - x[0]))\n",
    "    x['date']=pd.to_datetime(x['date'])\n",
    "    x['is_new']=x['time_diff']>pd.to_timedelta(1800,unit='s')\n",
    "    k=[]\n",
    "    i=0\n",
    "    for j in x.is_new:\n",
    "        if j:\n",
    "            i=i+1\n",
    "        k.append(i)\n",
    "    x['visit_number']=k\n",
    "    navstevy = x.groupby('visit_number')['date'].count()\n",
    "    return [i+1,navstevy.max(),navstevy.min(),navstevy.median()]"
   ]
  },
  {
   "cell_type": "code",
   "execution_count": 144,
   "metadata": {},
   "outputs": [],
   "source": [
    "df_grouped=df.groupby('user_id').apply(ff)\n",
    "df_visits = pd.DataFrame(df_grouped.values.tolist(), columns = [\n",
    "    'number_of_visits',\n",
    "    'maximal_clicks',\n",
    "    'minimal_clicks',\n",
    "    'median_clicks'\n",
    "])\n",
    "df_visits.index=df_grouped.index"
   ]
  },
  {
   "cell_type": "markdown",
   "metadata": {},
   "source": [
    "#### Nejake statistiky"
   ]
  },
  {
   "cell_type": "code",
   "execution_count": 136,
   "metadata": {},
   "outputs": [
    {
     "data": {
      "text/plain": [
       "(55, 3)"
      ]
     },
     "execution_count": 136,
     "metadata": {},
     "output_type": "execute_result"
    }
   ],
   "source": [
    "df_visits.loc[lambda x:x.number_of_visits>4].shape"
   ]
  },
  {
   "cell_type": "markdown",
   "metadata": {},
   "source": [
    "## funkce na identifikování sessions"
   ]
  },
  {
   "cell_type": "markdown",
   "metadata": {},
   "source": [
    "Momentálně dělám jen podle toho jaký je mezi nimi rozdíl, šlo by daleko líp\n"
   ]
  },
  {
   "cell_type": "code",
   "execution_count": 145,
   "metadata": {},
   "outputs": [],
   "source": [
    "def ff(x):\n",
    "    x=x.sort_values('date')\n",
    "    x['date']=pd.to_numeric(x['date'])\n",
    "    x['time_diff']=pd.to_timedelta(x['date'].rolling(window=2,center=False).apply(lambda x: x[1] - x[0]))\n",
    "    x['date']=pd.to_datetime(x['date'])\n",
    "    x['is_new']=x['time_diff']>pd.to_timedelta(24*3600,unit='s')\n",
    "    k=[]\n",
    "    i=0\n",
    "    for j in x.is_new:\n",
    "        if j:\n",
    "            i=i+1\n",
    "        k.append(i)\n",
    "    x['visit_number']=k\n",
    "    navstevy = x.groupby('visit_number')['date'].count()\n",
    "    return [i+1,navstevy.max(),navstevy.min(),navstevy.median()]"
   ]
  },
  {
   "cell_type": "code",
   "execution_count": 146,
   "metadata": {},
   "outputs": [],
   "source": [
    "df_grouped=df.groupby('user_id').apply(ff)\n",
    "df_sessions = pd.DataFrame(df_grouped.values.tolist(), columns = [\n",
    "    'number_of_visits',\n",
    "    'maximal_clicks',\n",
    "    'minimal_clicks',\n",
    "    'median_clicks'\n",
    "])\n",
    "df_sessions.index=df_grouped.index"
   ]
  },
  {
   "cell_type": "code",
   "execution_count": 148,
   "metadata": {},
   "outputs": [
    {
     "data": {
      "text/plain": [
       "(120, 4)"
      ]
     },
     "execution_count": 148,
     "metadata": {},
     "output_type": "execute_result"
    }
   ],
   "source": [
    "df_sessions.loc[lambda x:(x.number_of_visits>1)&(x.maximal_clicks>1)].shape"
   ]
  },
  {
   "cell_type": "code",
   "execution_count": null,
   "metadata": {},
   "outputs": [],
   "source": []
  }
 ],
 "metadata": {
  "hide_code_all_hidden": false,
  "kernelspec": {
   "display_name": "Python 3",
   "language": "python",
   "name": "python3"
  },
  "language_info": {
   "codemirror_mode": {
    "name": "ipython",
    "version": 3
   },
   "file_extension": ".py",
   "mimetype": "text/x-python",
   "name": "python",
   "nbconvert_exporter": "python",
   "pygments_lexer": "ipython3",
   "version": "3.6.1"
  }
 },
 "nbformat": 4,
 "nbformat_minor": 2
}
